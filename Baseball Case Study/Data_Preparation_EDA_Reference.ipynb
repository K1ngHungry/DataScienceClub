{
  "nbformat": 4,
  "nbformat_minor": 0,
  "metadata": {
    "colab": {
      "provenance": [],
      "collapsed_sections": []
    },
    "kernelspec": {
      "name": "ir",
      "display_name": "R"
    },
    "language_info": {
      "name": "R"
    }
  },
  "cells": [
    {
      "cell_type": "code",
      "source": [
        "if(!require('pacman')) {install.packages('pacman')} #if else statement\n",
        "pacman::p_load(ISLR, readxl, tidyverse, magrittr, dplyr, ggplot2, ggrepel)"
      ],
      "metadata": {
        "id": "hoM-pNqTYAjw",
        "colab": {
          "base_uri": "https://localhost:8080/"
        },
        "outputId": "49f86578-706d-4a4b-e13b-d5a267138159"
      },
      "execution_count": null,
      "outputs": [
        {
          "output_type": "stream",
          "name": "stderr",
          "text": [
            "Loading required package: pacman\n",
            "\n",
            "Warning message in library(package, lib.loc = lib.loc, character.only = TRUE, logical.return = TRUE, :\n",
            "“there is no package called ‘pacman’”\n",
            "Installing package into ‘/usr/local/lib/R/site-library’\n",
            "(as ‘lib’ is unspecified)\n",
            "\n",
            "Installing package into ‘/usr/local/lib/R/site-library’\n",
            "(as ‘lib’ is unspecified)\n",
            "\n",
            "\n",
            "ISLR installed\n",
            "\n",
            "Installing package into ‘/usr/local/lib/R/site-library’\n",
            "(as ‘lib’ is unspecified)\n",
            "\n",
            "also installing the dependency ‘Rcpp’\n",
            "\n",
            "\n",
            "\n",
            "ggrepel installed\n",
            "\n"
          ]
        }
      ]
    },
    {
      "cell_type": "code",
      "execution_count": null,
      "metadata": {
        "id": "I7icaNUyRRB_"
      },
      "outputs": [],
      "source": [
        "data <- read.csv('https://raw.githubusercontent.com/K1ngHungry/DataScienceClub/main/MLPayData_Total.csv')"
      ]
    },
    {
      "cell_type": "code",
      "source": [
        "data[1:4,] #1:4 for rows, keep all columns\n",
        "#below each column is the data type of each variable"
      ],
      "metadata": {
        "id": "HtiL00zgUfNE",
        "colab": {
          "base_uri": "https://localhost:8080/",
          "height": 296
        },
        "outputId": "2e0be847-d4ff-4ffa-aa29-027ef28884fc"
      },
      "execution_count": null,
      "outputs": [
        {
          "output_type": "display_data",
          "data": {
            "text/html": [
              "<table class=\"dataframe\">\n",
              "<caption>A data.frame: 4 × 52</caption>\n",
              "<thead>\n",
              "\t<tr><th></th><th scope=col>team</th><th scope=col>p1998</th><th scope=col>p1999</th><th scope=col>p2000</th><th scope=col>p2001</th><th scope=col>p2002</th><th scope=col>p2003</th><th scope=col>p2004</th><th scope=col>p2005</th><th scope=col>p2006</th><th scope=col>⋯</th><th scope=col>X2007.pct</th><th scope=col>X2006.pct</th><th scope=col>X2005.pct</th><th scope=col>X2004.pct</th><th scope=col>X2003.pct</th><th scope=col>X2002.pct</th><th scope=col>X2001.pct</th><th scope=col>X2000.pct</th><th scope=col>X1999.pct</th><th scope=col>X1998.pct</th></tr>\n",
              "\t<tr><th></th><th scope=col>&lt;chr&gt;</th><th scope=col>&lt;dbl&gt;</th><th scope=col>&lt;dbl&gt;</th><th scope=col>&lt;dbl&gt;</th><th scope=col>&lt;dbl&gt;</th><th scope=col>&lt;dbl&gt;</th><th scope=col>&lt;dbl&gt;</th><th scope=col>&lt;dbl&gt;</th><th scope=col>&lt;dbl&gt;</th><th scope=col>&lt;dbl&gt;</th><th scope=col>⋯</th><th scope=col>&lt;dbl&gt;</th><th scope=col>&lt;dbl&gt;</th><th scope=col>&lt;dbl&gt;</th><th scope=col>&lt;dbl&gt;</th><th scope=col>&lt;dbl&gt;</th><th scope=col>&lt;dbl&gt;</th><th scope=col>&lt;dbl&gt;</th><th scope=col>&lt;dbl&gt;</th><th scope=col>&lt;dbl&gt;</th><th scope=col>&lt;dbl&gt;</th></tr>\n",
              "</thead>\n",
              "<tbody>\n",
              "\t<tr><th scope=row>1</th><td>Arizona Diamondbacks</td><td>31.61450</td><td>70.49600</td><td>81.02783</td><td> 81.20651</td><td>102.82000</td><td> 80.64033</td><td> 70.20498</td><td> 63.01583</td><td> 59.68423</td><td>⋯</td><td>0.5555556</td><td>0.4691358</td><td>0.4753086</td><td>0.3148148</td><td>0.5185185</td><td>0.6049383</td><td>0.5679012</td><td>0.5246914</td><td>0.6172840</td><td>0.4012346</td></tr>\n",
              "\t<tr><th scope=row>2</th><td>Atlanta Braves      </td><td>61.70800</td><td>74.89000</td><td>84.53784</td><td> 91.85169</td><td> 93.47037</td><td>106.24367</td><td> 88.50779</td><td> 85.14858</td><td> 90.15688</td><td>⋯</td><td>0.5185185</td><td>0.4876543</td><td>0.5555556</td><td>0.5925926</td><td>0.6234568</td><td>0.6312500</td><td>0.5432099</td><td>0.5864198</td><td>0.6358025</td><td>0.6543210</td></tr>\n",
              "\t<tr><th scope=row>3</th><td>Baltimore Orioles   </td><td>71.86092</td><td>72.19836</td><td>81.44743</td><td> 72.42633</td><td> 60.49349</td><td> 73.87750</td><td> 51.21265</td><td> 74.57054</td><td> 72.58558</td><td>⋯</td><td>0.4259259</td><td>0.4320988</td><td>0.4567901</td><td>0.4814815</td><td>0.4382716</td><td>0.4135802</td><td>0.3913043</td><td>0.4567901</td><td>0.4814815</td><td>0.4876543</td></tr>\n",
              "\t<tr><th scope=row>4</th><td>Boston Red Sox      </td><td>59.49700</td><td>71.72500</td><td>77.94033</td><td>109.55891</td><td>108.36606</td><td> 99.94650</td><td>125.20854</td><td>121.31194</td><td>120.09982</td><td>⋯</td><td>0.5925926</td><td>0.5308642</td><td>0.5864198</td><td>0.6049383</td><td>0.5864198</td><td>0.5740741</td><td>0.5093168</td><td>0.5246914</td><td>0.5802469</td><td>0.5679012</td></tr>\n",
              "</tbody>\n",
              "</table>\n"
            ],
            "text/markdown": "\nA data.frame: 4 × 52\n\n| <!--/--> | team &lt;chr&gt; | p1998 &lt;dbl&gt; | p1999 &lt;dbl&gt; | p2000 &lt;dbl&gt; | p2001 &lt;dbl&gt; | p2002 &lt;dbl&gt; | p2003 &lt;dbl&gt; | p2004 &lt;dbl&gt; | p2005 &lt;dbl&gt; | p2006 &lt;dbl&gt; | ⋯ ⋯ | X2007.pct &lt;dbl&gt; | X2006.pct &lt;dbl&gt; | X2005.pct &lt;dbl&gt; | X2004.pct &lt;dbl&gt; | X2003.pct &lt;dbl&gt; | X2002.pct &lt;dbl&gt; | X2001.pct &lt;dbl&gt; | X2000.pct &lt;dbl&gt; | X1999.pct &lt;dbl&gt; | X1998.pct &lt;dbl&gt; |\n|---|---|---|---|---|---|---|---|---|---|---|---|---|---|---|---|---|---|---|---|---|---|\n| 1 | Arizona Diamondbacks | 31.61450 | 70.49600 | 81.02783 |  81.20651 | 102.82000 |  80.64033 |  70.20498 |  63.01583 |  59.68423 | ⋯ | 0.5555556 | 0.4691358 | 0.4753086 | 0.3148148 | 0.5185185 | 0.6049383 | 0.5679012 | 0.5246914 | 0.6172840 | 0.4012346 |\n| 2 | Atlanta Braves       | 61.70800 | 74.89000 | 84.53784 |  91.85169 |  93.47037 | 106.24367 |  88.50779 |  85.14858 |  90.15688 | ⋯ | 0.5185185 | 0.4876543 | 0.5555556 | 0.5925926 | 0.6234568 | 0.6312500 | 0.5432099 | 0.5864198 | 0.6358025 | 0.6543210 |\n| 3 | Baltimore Orioles    | 71.86092 | 72.19836 | 81.44743 |  72.42633 |  60.49349 |  73.87750 |  51.21265 |  74.57054 |  72.58558 | ⋯ | 0.4259259 | 0.4320988 | 0.4567901 | 0.4814815 | 0.4382716 | 0.4135802 | 0.3913043 | 0.4567901 | 0.4814815 | 0.4876543 |\n| 4 | Boston Red Sox       | 59.49700 | 71.72500 | 77.94033 | 109.55891 | 108.36606 |  99.94650 | 125.20854 | 121.31194 | 120.09982 | ⋯ | 0.5925926 | 0.5308642 | 0.5864198 | 0.6049383 | 0.5864198 | 0.5740741 | 0.5093168 | 0.5246914 | 0.5802469 | 0.5679012 |\n\n",
            "text/latex": "A data.frame: 4 × 52\n\\begin{tabular}{r|lllllllllllllllllllll}\n  & team & p1998 & p1999 & p2000 & p2001 & p2002 & p2003 & p2004 & p2005 & p2006 & ⋯ & X2007.pct & X2006.pct & X2005.pct & X2004.pct & X2003.pct & X2002.pct & X2001.pct & X2000.pct & X1999.pct & X1998.pct\\\\\n  & <chr> & <dbl> & <dbl> & <dbl> & <dbl> & <dbl> & <dbl> & <dbl> & <dbl> & <dbl> & ⋯ & <dbl> & <dbl> & <dbl> & <dbl> & <dbl> & <dbl> & <dbl> & <dbl> & <dbl> & <dbl>\\\\\n\\hline\n\t1 & Arizona Diamondbacks & 31.61450 & 70.49600 & 81.02783 &  81.20651 & 102.82000 &  80.64033 &  70.20498 &  63.01583 &  59.68423 & ⋯ & 0.5555556 & 0.4691358 & 0.4753086 & 0.3148148 & 0.5185185 & 0.6049383 & 0.5679012 & 0.5246914 & 0.6172840 & 0.4012346\\\\\n\t2 & Atlanta Braves       & 61.70800 & 74.89000 & 84.53784 &  91.85169 &  93.47037 & 106.24367 &  88.50779 &  85.14858 &  90.15688 & ⋯ & 0.5185185 & 0.4876543 & 0.5555556 & 0.5925926 & 0.6234568 & 0.6312500 & 0.5432099 & 0.5864198 & 0.6358025 & 0.6543210\\\\\n\t3 & Baltimore Orioles    & 71.86092 & 72.19836 & 81.44743 &  72.42633 &  60.49349 &  73.87750 &  51.21265 &  74.57054 &  72.58558 & ⋯ & 0.4259259 & 0.4320988 & 0.4567901 & 0.4814815 & 0.4382716 & 0.4135802 & 0.3913043 & 0.4567901 & 0.4814815 & 0.4876543\\\\\n\t4 & Boston Red Sox       & 59.49700 & 71.72500 & 77.94033 & 109.55891 & 108.36606 &  99.94650 & 125.20854 & 121.31194 & 120.09982 & ⋯ & 0.5925926 & 0.5308642 & 0.5864198 & 0.6049383 & 0.5864198 & 0.5740741 & 0.5093168 & 0.5246914 & 0.5802469 & 0.5679012\\\\\n\\end{tabular}\n",
            "text/plain": [
              "  team                 p1998    p1999    p2000    p2001     p2002     p2003    \n",
              "1 Arizona Diamondbacks 31.61450 70.49600 81.02783  81.20651 102.82000  80.64033\n",
              "2 Atlanta Braves       61.70800 74.89000 84.53784  91.85169  93.47037 106.24367\n",
              "3 Baltimore Orioles    71.86092 72.19836 81.44743  72.42633  60.49349  73.87750\n",
              "4 Boston Red Sox       59.49700 71.72500 77.94033 109.55891 108.36606  99.94650\n",
              "  p2004     p2005     p2006     ⋯ X2007.pct X2006.pct X2005.pct X2004.pct\n",
              "1  70.20498  63.01583  59.68423 ⋯ 0.5555556 0.4691358 0.4753086 0.3148148\n",
              "2  88.50779  85.14858  90.15688 ⋯ 0.5185185 0.4876543 0.5555556 0.5925926\n",
              "3  51.21265  74.57054  72.58558 ⋯ 0.4259259 0.4320988 0.4567901 0.4814815\n",
              "4 125.20854 121.31194 120.09982 ⋯ 0.5925926 0.5308642 0.5864198 0.6049383\n",
              "  X2003.pct X2002.pct X2001.pct X2000.pct X1999.pct X1998.pct\n",
              "1 0.5185185 0.6049383 0.5679012 0.5246914 0.6172840 0.4012346\n",
              "2 0.6234568 0.6312500 0.5432099 0.5864198 0.6358025 0.6543210\n",
              "3 0.4382716 0.4135802 0.3913043 0.4567901 0.4814815 0.4876543\n",
              "4 0.5864198 0.5740741 0.5093168 0.5246914 0.5802469 0.5679012"
            ]
          },
          "metadata": {}
        }
      ]
    },
    {
      "cell_type": "code",
      "source": [
        "str(data, list.len = 4)"
      ],
      "metadata": {
        "colab": {
          "base_uri": "https://localhost:8080/"
        },
        "id": "MX7eH1zhWvYa",
        "outputId": "97b12e1e-4807-44c1-9e15-04193082c6cf"
      },
      "execution_count": null,
      "outputs": [
        {
          "output_type": "stream",
          "name": "stdout",
          "text": [
            "'data.frame':\t30 obs. of  52 variables:\n",
            " $ Team.name.2014: chr  \"Arizona Diamondbacks\" \"Atlanta Braves\" \"Baltimore Orioles\" \"Boston Red Sox\" ...\n",
            " $ p1998         : num  31.6 61.7 71.9 59.5 49.8 ...\n",
            " $ p1999         : num  70.5 74.9 72.2 71.7 42.1 ...\n",
            " $ p2000         : num  81 84.5 81.4 77.9 60.5 ...\n",
            "  [list output truncated]\n"
          ]
        }
      ]
    },
    {
      "cell_type": "code",
      "source": [
        "summary(data)"
      ],
      "metadata": {
        "id": "5GA4Cc6kkbp_",
        "colab": {
          "base_uri": "https://localhost:8080/",
          "height": 1000
        },
        "outputId": "ee37a64f-f605-4626-ac51-38e38b959659"
      },
      "execution_count": null,
      "outputs": [
        {
          "output_type": "display_data",
          "data": {
            "text/plain": [
              " Team.name.2014         p1998            p1999           p2000      \n",
              " Length:30          Min.   : 8.317   Min.   :15.15   Min.   :16.52  \n",
              " Class :character   1st Qu.:27.683   1st Qu.:31.67   1st Qu.:38.94  \n",
              " Mode  :character   Median :43.895   Median :46.07   Median :56.54  \n",
              "                    Mean   :41.080   Mean   :48.19   Mean   :55.66  \n",
              "                    3rd Qu.:57.262   3rd Qu.:70.96   3rd Qu.:74.61  \n",
              "                    Max.   :71.861   Max.   :88.18   Max.   :92.54  \n",
              "     p2001            p2002            p2003            p2004       \n",
              " Min.   : 24.35   Min.   : 34.38   Min.   : 19.63   Min.   : 27.52  \n",
              " 1st Qu.: 43.62   1st Qu.: 45.60   1st Qu.: 50.45   1st Qu.: 46.67  \n",
              " Median : 62.85   Median : 61.11   Median : 68.98   Median : 62.21  \n",
              " Mean   : 64.46   Mean   : 67.45   Mean   : 71.03   Mean   : 68.55  \n",
              " 3rd Qu.: 80.22   3rd Qu.: 79.94   3rd Qu.: 83.33   3rd Qu.: 86.89  \n",
              " Max.   :109.79   Max.   :125.93   Max.   :152.75   Max.   :182.84  \n",
              "     p2005            p2006            p2007            p2008       \n",
              " Min.   : 29.89   Min.   : 15.00   Min.   : 24.12   Min.   : 21.81  \n",
              " 1st Qu.: 50.26   1st Qu.: 59.99   1st Qu.: 63.03   1st Qu.: 66.45  \n",
              " Median : 66.01   Median : 72.25   Median : 84.62   Median : 79.95  \n",
              " Mean   : 72.75   Mean   : 77.56   Mean   : 82.63   Mean   : 89.55  \n",
              " 3rd Qu.: 86.88   3rd Qu.: 91.95   3rd Qu.: 98.55   3rd Qu.:118.18  \n",
              " Max.   :205.94   Max.   :194.66   Max.   :189.64   Max.   :209.08  \n",
              "     p2009            p2010            p2011            p2012       \n",
              " Min.   : 36.81   Min.   : 34.94   Min.   : 36.13   Min.   : 55.24  \n",
              " 1st Qu.: 67.49   1st Qu.: 61.74   1st Qu.: 62.81   1st Qu.: 76.13  \n",
              " Median : 81.31   Median : 84.33   Median : 86.71   Median : 85.75  \n",
              " Mean   : 88.35   Mean   : 91.02   Mean   : 92.99   Mean   : 98.02  \n",
              " 3rd Qu.:102.36   3rd Qu.:103.35   3rd Qu.:116.85   3rd Qu.:115.79  \n",
              " Max.   :201.45   Max.   :206.33   Max.   :201.69   Max.   :197.96  \n",
              "     p2013            p2014            X2014          X2013      \n",
              " Min.   : 22.06   Min.   : 44.54   Min.   :64.0   Min.   :51.00  \n",
              " 1st Qu.: 74.00   1st Qu.: 89.02   1st Qu.:73.0   1st Qu.:74.00  \n",
              " Median : 90.39   Median :105.63   Median :80.5   Median :83.00  \n",
              " Mean   :103.29   Mean   :115.13   Mean   :81.0   Mean   :81.03  \n",
              " 3rd Qu.:118.69   3rd Qu.:135.70   3rd Qu.:88.0   3rd Qu.:92.00  \n",
              " Max.   :228.84   Max.   :235.30   Max.   :98.0   Max.   :97.00  \n",
              "     X2012           X2011            X2010           X2009       \n",
              " Min.   :55.00   Min.   : 56.00   Min.   :57.00   Min.   : 59.00  \n",
              " 1st Qu.:72.25   1st Qu.: 72.00   1st Qu.:75.25   1st Qu.: 74.25  \n",
              " Median :82.00   Median : 80.00   Median :81.00   Median : 83.50  \n",
              " Mean   :81.00   Mean   : 80.97   Mean   :81.00   Mean   : 81.00  \n",
              " 3rd Qu.:92.25   3rd Qu.: 90.00   3rd Qu.:90.00   3rd Qu.: 87.75  \n",
              " Max.   :98.00   Max.   :102.00   Max.   :97.00   Max.   :103.00  \n",
              "     X2008            X2007           X2006           X2005       \n",
              " Min.   : 59.00   Min.   :66.00   Min.   :61.00   Min.   : 56.00  \n",
              " 1st Qu.: 74.00   1st Qu.:72.25   1st Qu.:76.00   1st Qu.: 73.25  \n",
              " Median : 83.00   Median :82.50   Median :80.00   Median : 81.00  \n",
              " Mean   : 80.93   Mean   :81.03   Mean   :80.97   Mean   : 81.00  \n",
              " 3rd Qu.: 89.00   3rd Qu.:88.75   3rd Qu.:88.00   3rd Qu.: 88.75  \n",
              " Max.   :100.00   Max.   :96.00   Max.   :97.00   Max.   :100.00  \n",
              "     X2004            X2003            X2002            X2001       \n",
              " Min.   : 51.00   Min.   : 43.00   Min.   : 55.00   Min.   : 62.00  \n",
              " 1st Qu.: 70.25   1st Qu.: 71.00   1st Qu.: 72.00   1st Qu.: 69.25  \n",
              " Median : 83.00   Median : 84.50   Median : 79.50   Median : 82.00  \n",
              " Mean   : 80.93   Mean   : 80.97   Mean   : 80.83   Mean   : 80.93  \n",
              " 3rd Qu.: 91.75   3rd Qu.: 89.50   3rd Qu.: 93.75   3rd Qu.: 89.50  \n",
              " Max.   :105.00   Max.   :101.00   Max.   :103.00   Max.   :116.00  \n",
              "     X2000           X1999            X1998          X2014.pct     \n",
              " Min.   :65.00   Min.   : 63.00   Min.   : 54.00   Min.   :0.3951  \n",
              " 1st Qu.:72.25   1st Qu.: 70.50   1st Qu.: 72.50   1st Qu.:0.4506  \n",
              " Median :82.00   Median : 77.50   Median : 79.50   Median :0.4969  \n",
              " Mean   :80.93   Mean   : 80.90   Mean   : 81.00   Mean   :0.5000  \n",
              " 3rd Qu.:89.25   3rd Qu.: 94.75   3rd Qu.: 88.75   3rd Qu.:0.5432  \n",
              " Max.   :97.00   Max.   :103.00   Max.   :114.00   Max.   :0.6049  \n",
              "   X2013.pct        X2012.pct        X2011.pct        X2010.pct     \n",
              " Min.   :0.3148   Min.   :0.3395   Min.   :0.3457   Min.   :0.3519  \n",
              " 1st Qu.:0.4568   1st Qu.:0.4460   1st Qu.:0.4444   1st Qu.:0.4645  \n",
              " Median :0.5123   Median :0.5062   Median :0.4954   Median :0.5000  \n",
              " Mean   :0.5000   Mean   :0.5000   Mean   :0.5000   Mean   :0.5000  \n",
              " 3rd Qu.:0.5670   3rd Qu.:0.5694   3rd Qu.:0.5556   3rd Qu.:0.5556  \n",
              " Max.   :0.5988   Max.   :0.6049   Max.   :0.6296   Max.   :0.5988  \n",
              "   X2009.pct        X2008.pct        X2007.pct        X2006.pct     \n",
              " Min.   :0.3642   Min.   :0.3665   Min.   :0.4074   Min.   :0.3765  \n",
              " 1st Qu.:0.4583   1st Qu.:0.4568   1st Qu.:0.4460   1st Qu.:0.4691  \n",
              " Median :0.5170   Median :0.5123   Median :0.5093   Median :0.4938  \n",
              " Mean   :0.5000   Mean   :0.5000   Mean   :0.5000   Mean   :0.5000  \n",
              " 3rd Qu.:0.5417   3rd Qu.:0.5485   3rd Qu.:0.5453   3rd Qu.:0.5432  \n",
              " Max.   :0.6358   Max.   :0.6173   Max.   :0.5926   Max.   :0.5988  \n",
              "   X2005.pct        X2004.pct        X2003.pct        X2002.pct     \n",
              " Min.   :0.3457   Min.   :0.3148   Min.   :0.2654   Min.   :0.3416  \n",
              " 1st Qu.:0.4522   1st Qu.:0.4357   1st Qu.:0.4383   1st Qu.:0.4451  \n",
              " Median :0.5000   Median :0.5123   Median :0.5216   Median :0.4923  \n",
              " Mean   :0.5000   Mean   :0.4999   Mean   :0.5000   Mean   :0.5000  \n",
              " 3rd Qu.:0.5478   3rd Qu.:0.5664   3rd Qu.:0.5525   3rd Qu.:0.5814  \n",
              " Max.   :0.6173   Max.   :0.6481   Max.   :0.6235   Max.   :0.6398  \n",
              "   X2001.pct        X2000.pct        X1999.pct        X1998.pct     \n",
              " Min.   :0.3827   Min.   :0.4012   Min.   :0.3937   Min.   :0.3333  \n",
              " 1st Qu.:0.4275   1st Qu.:0.4460   1st Qu.:0.4352   1st Qu.:0.4496  \n",
              " Median :0.5077   Median :0.5062   Median :0.4784   Median :0.4907  \n",
              " Mean   :0.5000   Mean   :0.5000   Mean   :0.4999   Mean   :0.5000  \n",
              " 3rd Qu.:0.5525   3rd Qu.:0.5518   3rd Qu.:0.5849   3rd Qu.:0.5453  \n",
              " Max.   :0.7160   Max.   :0.5988   Max.   :0.6358   Max.   :0.7037  "
            ]
          },
          "metadata": {}
        }
      ]
    },
    {
      "cell_type": "code",
      "source": [
        "?names #? operator pulls up the documentation"
      ],
      "metadata": {
        "id": "SXOqRAMbk34X"
      },
      "execution_count": null,
      "outputs": []
    },
    {
      "cell_type": "code",
      "source": [
        "names(data) #variable names are under the columns"
      ],
      "metadata": {
        "id": "yPjt0EGyWHUD",
        "colab": {
          "base_uri": "https://localhost:8080/",
          "height": 69
        },
        "outputId": "34f6f157-1609-49fa-ce74-d15fe633bfb2"
      },
      "execution_count": null,
      "outputs": [
        {
          "output_type": "display_data",
          "data": {
            "text/html": [
              "<style>\n",
              ".list-inline {list-style: none; margin:0; padding: 0}\n",
              ".list-inline>li {display: inline-block}\n",
              ".list-inline>li:not(:last-child)::after {content: \"\\00b7\"; padding: 0 .5ex}\n",
              "</style>\n",
              "<ol class=list-inline><li>'Team.name.2014'</li><li>'p1998'</li><li>'p1999'</li><li>'p2000'</li><li>'p2001'</li><li>'p2002'</li><li>'p2003'</li><li>'p2004'</li><li>'p2005'</li><li>'p2006'</li><li>'p2007'</li><li>'p2008'</li><li>'p2009'</li><li>'p2010'</li><li>'p2011'</li><li>'p2012'</li><li>'p2013'</li><li>'p2014'</li><li>'X2014'</li><li>'X2013'</li><li>'X2012'</li><li>'X2011'</li><li>'X2010'</li><li>'X2009'</li><li>'X2008'</li><li>'X2007'</li><li>'X2006'</li><li>'X2005'</li><li>'X2004'</li><li>'X2003'</li><li>'X2002'</li><li>'X2001'</li><li>'X2000'</li><li>'X1999'</li><li>'X1998'</li><li>'X2014.pct'</li><li>'X2013.pct'</li><li>'X2012.pct'</li><li>'X2011.pct'</li><li>'X2010.pct'</li><li>'X2009.pct'</li><li>'X2008.pct'</li><li>'X2007.pct'</li><li>'X2006.pct'</li><li>'X2005.pct'</li><li>'X2004.pct'</li><li>'X2003.pct'</li><li>'X2002.pct'</li><li>'X2001.pct'</li><li>'X2000.pct'</li><li>'X1999.pct'</li><li>'X1998.pct'</li></ol>\n"
            ],
            "text/markdown": "1. 'Team.name.2014'\n2. 'p1998'\n3. 'p1999'\n4. 'p2000'\n5. 'p2001'\n6. 'p2002'\n7. 'p2003'\n8. 'p2004'\n9. 'p2005'\n10. 'p2006'\n11. 'p2007'\n12. 'p2008'\n13. 'p2009'\n14. 'p2010'\n15. 'p2011'\n16. 'p2012'\n17. 'p2013'\n18. 'p2014'\n19. 'X2014'\n20. 'X2013'\n21. 'X2012'\n22. 'X2011'\n23. 'X2010'\n24. 'X2009'\n25. 'X2008'\n26. 'X2007'\n27. 'X2006'\n28. 'X2005'\n29. 'X2004'\n30. 'X2003'\n31. 'X2002'\n32. 'X2001'\n33. 'X2000'\n34. 'X1999'\n35. 'X1998'\n36. 'X2014.pct'\n37. 'X2013.pct'\n38. 'X2012.pct'\n39. 'X2011.pct'\n40. 'X2010.pct'\n41. 'X2009.pct'\n42. 'X2008.pct'\n43. 'X2007.pct'\n44. 'X2006.pct'\n45. 'X2005.pct'\n46. 'X2004.pct'\n47. 'X2003.pct'\n48. 'X2002.pct'\n49. 'X2001.pct'\n50. 'X2000.pct'\n51. 'X1999.pct'\n52. 'X1998.pct'\n\n\n",
            "text/latex": "\\begin{enumerate*}\n\\item 'Team.name.2014'\n\\item 'p1998'\n\\item 'p1999'\n\\item 'p2000'\n\\item 'p2001'\n\\item 'p2002'\n\\item 'p2003'\n\\item 'p2004'\n\\item 'p2005'\n\\item 'p2006'\n\\item 'p2007'\n\\item 'p2008'\n\\item 'p2009'\n\\item 'p2010'\n\\item 'p2011'\n\\item 'p2012'\n\\item 'p2013'\n\\item 'p2014'\n\\item 'X2014'\n\\item 'X2013'\n\\item 'X2012'\n\\item 'X2011'\n\\item 'X2010'\n\\item 'X2009'\n\\item 'X2008'\n\\item 'X2007'\n\\item 'X2006'\n\\item 'X2005'\n\\item 'X2004'\n\\item 'X2003'\n\\item 'X2002'\n\\item 'X2001'\n\\item 'X2000'\n\\item 'X1999'\n\\item 'X1998'\n\\item 'X2014.pct'\n\\item 'X2013.pct'\n\\item 'X2012.pct'\n\\item 'X2011.pct'\n\\item 'X2010.pct'\n\\item 'X2009.pct'\n\\item 'X2008.pct'\n\\item 'X2007.pct'\n\\item 'X2006.pct'\n\\item 'X2005.pct'\n\\item 'X2004.pct'\n\\item 'X2003.pct'\n\\item 'X2002.pct'\n\\item 'X2001.pct'\n\\item 'X2000.pct'\n\\item 'X1999.pct'\n\\item 'X1998.pct'\n\\end{enumerate*}\n",
            "text/plain": [
              " [1] \"Team.name.2014\" \"p1998\"          \"p1999\"          \"p2000\"         \n",
              " [5] \"p2001\"          \"p2002\"          \"p2003\"          \"p2004\"         \n",
              " [9] \"p2005\"          \"p2006\"          \"p2007\"          \"p2008\"         \n",
              "[13] \"p2009\"          \"p2010\"          \"p2011\"          \"p2012\"         \n",
              "[17] \"p2013\"          \"p2014\"          \"X2014\"          \"X2013\"         \n",
              "[21] \"X2012\"          \"X2011\"          \"X2010\"          \"X2009\"         \n",
              "[25] \"X2008\"          \"X2007\"          \"X2006\"          \"X2005\"         \n",
              "[29] \"X2004\"          \"X2003\"          \"X2002\"          \"X2001\"         \n",
              "[33] \"X2000\"          \"X1999\"          \"X1998\"          \"X2014.pct\"     \n",
              "[37] \"X2013.pct\"      \"X2012.pct\"      \"X2011.pct\"      \"X2010.pct\"     \n",
              "[41] \"X2009.pct\"      \"X2008.pct\"      \"X2007.pct\"      \"X2006.pct\"     \n",
              "[45] \"X2005.pct\"      \"X2004.pct\"      \"X2003.pct\"      \"X2002.pct\"     \n",
              "[49] \"X2001.pct\"      \"X2000.pct\"      \"X1999.pct\"      \"X1998.pct\"     "
            ]
          },
          "metadata": {}
        }
      ]
    },
    {
      "cell_type": "code",
      "source": [
        "data <- data %>% rename(team = Team.name.2014) #piping\n",
        "data[1:4, ]"
      ],
      "metadata": {
        "id": "3_E2KRP3XfdE",
        "colab": {
          "base_uri": "https://localhost:8080/",
          "height": 296
        },
        "outputId": "800d6c93-8f26-4333-cef2-8c8f8c25729f"
      },
      "execution_count": null,
      "outputs": [
        {
          "output_type": "display_data",
          "data": {
            "text/html": [
              "<table class=\"dataframe\">\n",
              "<caption>A data.frame: 4 × 52</caption>\n",
              "<thead>\n",
              "\t<tr><th></th><th scope=col>team</th><th scope=col>p1998</th><th scope=col>p1999</th><th scope=col>p2000</th><th scope=col>p2001</th><th scope=col>p2002</th><th scope=col>p2003</th><th scope=col>p2004</th><th scope=col>p2005</th><th scope=col>p2006</th><th scope=col>⋯</th><th scope=col>X2007.pct</th><th scope=col>X2006.pct</th><th scope=col>X2005.pct</th><th scope=col>X2004.pct</th><th scope=col>X2003.pct</th><th scope=col>X2002.pct</th><th scope=col>X2001.pct</th><th scope=col>X2000.pct</th><th scope=col>X1999.pct</th><th scope=col>X1998.pct</th></tr>\n",
              "\t<tr><th></th><th scope=col>&lt;chr&gt;</th><th scope=col>&lt;dbl&gt;</th><th scope=col>&lt;dbl&gt;</th><th scope=col>&lt;dbl&gt;</th><th scope=col>&lt;dbl&gt;</th><th scope=col>&lt;dbl&gt;</th><th scope=col>&lt;dbl&gt;</th><th scope=col>&lt;dbl&gt;</th><th scope=col>&lt;dbl&gt;</th><th scope=col>&lt;dbl&gt;</th><th scope=col>⋯</th><th scope=col>&lt;dbl&gt;</th><th scope=col>&lt;dbl&gt;</th><th scope=col>&lt;dbl&gt;</th><th scope=col>&lt;dbl&gt;</th><th scope=col>&lt;dbl&gt;</th><th scope=col>&lt;dbl&gt;</th><th scope=col>&lt;dbl&gt;</th><th scope=col>&lt;dbl&gt;</th><th scope=col>&lt;dbl&gt;</th><th scope=col>&lt;dbl&gt;</th></tr>\n",
              "</thead>\n",
              "<tbody>\n",
              "\t<tr><th scope=row>1</th><td>Arizona Diamondbacks</td><td>31.61450</td><td>70.49600</td><td>81.02783</td><td> 81.20651</td><td>102.82000</td><td> 80.64033</td><td> 70.20498</td><td> 63.01583</td><td> 59.68423</td><td>⋯</td><td>0.5555556</td><td>0.4691358</td><td>0.4753086</td><td>0.3148148</td><td>0.5185185</td><td>0.6049383</td><td>0.5679012</td><td>0.5246914</td><td>0.6172840</td><td>0.4012346</td></tr>\n",
              "\t<tr><th scope=row>2</th><td>Atlanta Braves      </td><td>61.70800</td><td>74.89000</td><td>84.53784</td><td> 91.85169</td><td> 93.47037</td><td>106.24367</td><td> 88.50779</td><td> 85.14858</td><td> 90.15688</td><td>⋯</td><td>0.5185185</td><td>0.4876543</td><td>0.5555556</td><td>0.5925926</td><td>0.6234568</td><td>0.6312500</td><td>0.5432099</td><td>0.5864198</td><td>0.6358025</td><td>0.6543210</td></tr>\n",
              "\t<tr><th scope=row>3</th><td>Baltimore Orioles   </td><td>71.86092</td><td>72.19836</td><td>81.44743</td><td> 72.42633</td><td> 60.49349</td><td> 73.87750</td><td> 51.21265</td><td> 74.57054</td><td> 72.58558</td><td>⋯</td><td>0.4259259</td><td>0.4320988</td><td>0.4567901</td><td>0.4814815</td><td>0.4382716</td><td>0.4135802</td><td>0.3913043</td><td>0.4567901</td><td>0.4814815</td><td>0.4876543</td></tr>\n",
              "\t<tr><th scope=row>4</th><td>Boston Red Sox      </td><td>59.49700</td><td>71.72500</td><td>77.94033</td><td>109.55891</td><td>108.36606</td><td> 99.94650</td><td>125.20854</td><td>121.31194</td><td>120.09982</td><td>⋯</td><td>0.5925926</td><td>0.5308642</td><td>0.5864198</td><td>0.6049383</td><td>0.5864198</td><td>0.5740741</td><td>0.5093168</td><td>0.5246914</td><td>0.5802469</td><td>0.5679012</td></tr>\n",
              "</tbody>\n",
              "</table>\n"
            ],
            "text/markdown": "\nA data.frame: 4 × 52\n\n| <!--/--> | team &lt;chr&gt; | p1998 &lt;dbl&gt; | p1999 &lt;dbl&gt; | p2000 &lt;dbl&gt; | p2001 &lt;dbl&gt; | p2002 &lt;dbl&gt; | p2003 &lt;dbl&gt; | p2004 &lt;dbl&gt; | p2005 &lt;dbl&gt; | p2006 &lt;dbl&gt; | ⋯ ⋯ | X2007.pct &lt;dbl&gt; | X2006.pct &lt;dbl&gt; | X2005.pct &lt;dbl&gt; | X2004.pct &lt;dbl&gt; | X2003.pct &lt;dbl&gt; | X2002.pct &lt;dbl&gt; | X2001.pct &lt;dbl&gt; | X2000.pct &lt;dbl&gt; | X1999.pct &lt;dbl&gt; | X1998.pct &lt;dbl&gt; |\n|---|---|---|---|---|---|---|---|---|---|---|---|---|---|---|---|---|---|---|---|---|---|\n| 1 | Arizona Diamondbacks | 31.61450 | 70.49600 | 81.02783 |  81.20651 | 102.82000 |  80.64033 |  70.20498 |  63.01583 |  59.68423 | ⋯ | 0.5555556 | 0.4691358 | 0.4753086 | 0.3148148 | 0.5185185 | 0.6049383 | 0.5679012 | 0.5246914 | 0.6172840 | 0.4012346 |\n| 2 | Atlanta Braves       | 61.70800 | 74.89000 | 84.53784 |  91.85169 |  93.47037 | 106.24367 |  88.50779 |  85.14858 |  90.15688 | ⋯ | 0.5185185 | 0.4876543 | 0.5555556 | 0.5925926 | 0.6234568 | 0.6312500 | 0.5432099 | 0.5864198 | 0.6358025 | 0.6543210 |\n| 3 | Baltimore Orioles    | 71.86092 | 72.19836 | 81.44743 |  72.42633 |  60.49349 |  73.87750 |  51.21265 |  74.57054 |  72.58558 | ⋯ | 0.4259259 | 0.4320988 | 0.4567901 | 0.4814815 | 0.4382716 | 0.4135802 | 0.3913043 | 0.4567901 | 0.4814815 | 0.4876543 |\n| 4 | Boston Red Sox       | 59.49700 | 71.72500 | 77.94033 | 109.55891 | 108.36606 |  99.94650 | 125.20854 | 121.31194 | 120.09982 | ⋯ | 0.5925926 | 0.5308642 | 0.5864198 | 0.6049383 | 0.5864198 | 0.5740741 | 0.5093168 | 0.5246914 | 0.5802469 | 0.5679012 |\n\n",
            "text/latex": "A data.frame: 4 × 52\n\\begin{tabular}{r|lllllllllllllllllllll}\n  & team & p1998 & p1999 & p2000 & p2001 & p2002 & p2003 & p2004 & p2005 & p2006 & ⋯ & X2007.pct & X2006.pct & X2005.pct & X2004.pct & X2003.pct & X2002.pct & X2001.pct & X2000.pct & X1999.pct & X1998.pct\\\\\n  & <chr> & <dbl> & <dbl> & <dbl> & <dbl> & <dbl> & <dbl> & <dbl> & <dbl> & <dbl> & ⋯ & <dbl> & <dbl> & <dbl> & <dbl> & <dbl> & <dbl> & <dbl> & <dbl> & <dbl> & <dbl>\\\\\n\\hline\n\t1 & Arizona Diamondbacks & 31.61450 & 70.49600 & 81.02783 &  81.20651 & 102.82000 &  80.64033 &  70.20498 &  63.01583 &  59.68423 & ⋯ & 0.5555556 & 0.4691358 & 0.4753086 & 0.3148148 & 0.5185185 & 0.6049383 & 0.5679012 & 0.5246914 & 0.6172840 & 0.4012346\\\\\n\t2 & Atlanta Braves       & 61.70800 & 74.89000 & 84.53784 &  91.85169 &  93.47037 & 106.24367 &  88.50779 &  85.14858 &  90.15688 & ⋯ & 0.5185185 & 0.4876543 & 0.5555556 & 0.5925926 & 0.6234568 & 0.6312500 & 0.5432099 & 0.5864198 & 0.6358025 & 0.6543210\\\\\n\t3 & Baltimore Orioles    & 71.86092 & 72.19836 & 81.44743 &  72.42633 &  60.49349 &  73.87750 &  51.21265 &  74.57054 &  72.58558 & ⋯ & 0.4259259 & 0.4320988 & 0.4567901 & 0.4814815 & 0.4382716 & 0.4135802 & 0.3913043 & 0.4567901 & 0.4814815 & 0.4876543\\\\\n\t4 & Boston Red Sox       & 59.49700 & 71.72500 & 77.94033 & 109.55891 & 108.36606 &  99.94650 & 125.20854 & 121.31194 & 120.09982 & ⋯ & 0.5925926 & 0.5308642 & 0.5864198 & 0.6049383 & 0.5864198 & 0.5740741 & 0.5093168 & 0.5246914 & 0.5802469 & 0.5679012\\\\\n\\end{tabular}\n",
            "text/plain": [
              "  team                 p1998    p1999    p2000    p2001     p2002     p2003    \n",
              "1 Arizona Diamondbacks 31.61450 70.49600 81.02783  81.20651 102.82000  80.64033\n",
              "2 Atlanta Braves       61.70800 74.89000 84.53784  91.85169  93.47037 106.24367\n",
              "3 Baltimore Orioles    71.86092 72.19836 81.44743  72.42633  60.49349  73.87750\n",
              "4 Boston Red Sox       59.49700 71.72500 77.94033 109.55891 108.36606  99.94650\n",
              "  p2004     p2005     p2006     ⋯ X2007.pct X2006.pct X2005.pct X2004.pct\n",
              "1  70.20498  63.01583  59.68423 ⋯ 0.5555556 0.4691358 0.4753086 0.3148148\n",
              "2  88.50779  85.14858  90.15688 ⋯ 0.5185185 0.4876543 0.5555556 0.5925926\n",
              "3  51.21265  74.57054  72.58558 ⋯ 0.4259259 0.4320988 0.4567901 0.4814815\n",
              "4 125.20854 121.31194 120.09982 ⋯ 0.5925926 0.5308642 0.5864198 0.6049383\n",
              "  X2003.pct X2002.pct X2001.pct X2000.pct X1999.pct X1998.pct\n",
              "1 0.5185185 0.6049383 0.5679012 0.5246914 0.6172840 0.4012346\n",
              "2 0.6234568 0.6312500 0.5432099 0.5864198 0.6358025 0.6543210\n",
              "3 0.4382716 0.4135802 0.3913043 0.4567901 0.4814815 0.4876543\n",
              "4 0.5864198 0.5740741 0.5093168 0.5246914 0.5802469 0.5679012"
            ]
          },
          "metadata": {}
        }
      ]
    },
    {
      "cell_type": "code",
      "source": [
        "names(data)"
      ],
      "metadata": {
        "colab": {
          "base_uri": "https://localhost:8080/",
          "height": 69
        },
        "id": "Hgs5onHqigyC",
        "outputId": "49a0fceb-7064-4fd8-8a91-5bacb4bdb335"
      },
      "execution_count": null,
      "outputs": [
        {
          "output_type": "display_data",
          "data": {
            "text/html": [
              "<style>\n",
              ".list-inline {list-style: none; margin:0; padding: 0}\n",
              ".list-inline>li {display: inline-block}\n",
              ".list-inline>li:not(:last-child)::after {content: \"\\00b7\"; padding: 0 .5ex}\n",
              "</style>\n",
              "<ol class=list-inline><li>'team'</li><li>'p1998'</li><li>'p1999'</li><li>'p2000'</li><li>'p2001'</li><li>'p2002'</li><li>'p2003'</li><li>'p2004'</li><li>'p2005'</li><li>'p2006'</li><li>'p2007'</li><li>'p2008'</li><li>'p2009'</li><li>'p2010'</li><li>'p2011'</li><li>'p2012'</li><li>'p2013'</li><li>'p2014'</li><li>'X2014'</li><li>'X2013'</li><li>'X2012'</li><li>'X2011'</li><li>'X2010'</li><li>'X2009'</li><li>'X2008'</li><li>'X2007'</li><li>'X2006'</li><li>'X2005'</li><li>'X2004'</li><li>'X2003'</li><li>'X2002'</li><li>'X2001'</li><li>'X2000'</li><li>'X1999'</li><li>'X1998'</li><li>'X2014.pct'</li><li>'X2013.pct'</li><li>'X2012.pct'</li><li>'X2011.pct'</li><li>'X2010.pct'</li><li>'X2009.pct'</li><li>'X2008.pct'</li><li>'X2007.pct'</li><li>'X2006.pct'</li><li>'X2005.pct'</li><li>'X2004.pct'</li><li>'X2003.pct'</li><li>'X2002.pct'</li><li>'X2001.pct'</li><li>'X2000.pct'</li><li>'X1999.pct'</li><li>'X1998.pct'</li></ol>\n"
            ],
            "text/markdown": "1. 'team'\n2. 'p1998'\n3. 'p1999'\n4. 'p2000'\n5. 'p2001'\n6. 'p2002'\n7. 'p2003'\n8. 'p2004'\n9. 'p2005'\n10. 'p2006'\n11. 'p2007'\n12. 'p2008'\n13. 'p2009'\n14. 'p2010'\n15. 'p2011'\n16. 'p2012'\n17. 'p2013'\n18. 'p2014'\n19. 'X2014'\n20. 'X2013'\n21. 'X2012'\n22. 'X2011'\n23. 'X2010'\n24. 'X2009'\n25. 'X2008'\n26. 'X2007'\n27. 'X2006'\n28. 'X2005'\n29. 'X2004'\n30. 'X2003'\n31. 'X2002'\n32. 'X2001'\n33. 'X2000'\n34. 'X1999'\n35. 'X1998'\n36. 'X2014.pct'\n37. 'X2013.pct'\n38. 'X2012.pct'\n39. 'X2011.pct'\n40. 'X2010.pct'\n41. 'X2009.pct'\n42. 'X2008.pct'\n43. 'X2007.pct'\n44. 'X2006.pct'\n45. 'X2005.pct'\n46. 'X2004.pct'\n47. 'X2003.pct'\n48. 'X2002.pct'\n49. 'X2001.pct'\n50. 'X2000.pct'\n51. 'X1999.pct'\n52. 'X1998.pct'\n\n\n",
            "text/latex": "\\begin{enumerate*}\n\\item 'team'\n\\item 'p1998'\n\\item 'p1999'\n\\item 'p2000'\n\\item 'p2001'\n\\item 'p2002'\n\\item 'p2003'\n\\item 'p2004'\n\\item 'p2005'\n\\item 'p2006'\n\\item 'p2007'\n\\item 'p2008'\n\\item 'p2009'\n\\item 'p2010'\n\\item 'p2011'\n\\item 'p2012'\n\\item 'p2013'\n\\item 'p2014'\n\\item 'X2014'\n\\item 'X2013'\n\\item 'X2012'\n\\item 'X2011'\n\\item 'X2010'\n\\item 'X2009'\n\\item 'X2008'\n\\item 'X2007'\n\\item 'X2006'\n\\item 'X2005'\n\\item 'X2004'\n\\item 'X2003'\n\\item 'X2002'\n\\item 'X2001'\n\\item 'X2000'\n\\item 'X1999'\n\\item 'X1998'\n\\item 'X2014.pct'\n\\item 'X2013.pct'\n\\item 'X2012.pct'\n\\item 'X2011.pct'\n\\item 'X2010.pct'\n\\item 'X2009.pct'\n\\item 'X2008.pct'\n\\item 'X2007.pct'\n\\item 'X2006.pct'\n\\item 'X2005.pct'\n\\item 'X2004.pct'\n\\item 'X2003.pct'\n\\item 'X2002.pct'\n\\item 'X2001.pct'\n\\item 'X2000.pct'\n\\item 'X1999.pct'\n\\item 'X1998.pct'\n\\end{enumerate*}\n",
            "text/plain": [
              " [1] \"team\"      \"p1998\"     \"p1999\"     \"p2000\"     \"p2001\"     \"p2002\"    \n",
              " [7] \"p2003\"     \"p2004\"     \"p2005\"     \"p2006\"     \"p2007\"     \"p2008\"    \n",
              "[13] \"p2009\"     \"p2010\"     \"p2011\"     \"p2012\"     \"p2013\"     \"p2014\"    \n",
              "[19] \"X2014\"     \"X2013\"     \"X2012\"     \"X2011\"     \"X2010\"     \"X2009\"    \n",
              "[25] \"X2008\"     \"X2007\"     \"X2006\"     \"X2005\"     \"X2004\"     \"X2003\"    \n",
              "[31] \"X2002\"     \"X2001\"     \"X2000\"     \"X1999\"     \"X1998\"     \"X2014.pct\"\n",
              "[37] \"X2013.pct\" \"X2012.pct\" \"X2011.pct\" \"X2010.pct\" \"X2009.pct\" \"X2008.pct\"\n",
              "[43] \"X2007.pct\" \"X2006.pct\" \"X2005.pct\" \"X2004.pct\" \"X2003.pct\" \"X2002.pct\"\n",
              "[49] \"X2001.pct\" \"X2000.pct\" \"X1999.pct\" \"X1998.pct\""
            ]
          },
          "metadata": {}
        }
      ]
    },
    {
      "cell_type": "code",
      "source": [
        "payroll <- data %>%   # first create variable: payroll and year\n",
        "  select(team, p1998:p2014) %>% \n",
        "  pivot_longer(cols = starts_with(\"p\"), \n",
        "               names_to = \"year\", \n",
        "               names_prefix = \"p\",\n",
        "               values_to = \"payroll\")\n",
        "payroll[1:3, 1:3] # show a few rows\n",
        "\n",
        "win_num <- data %>%  # create variable: win_num and year\n",
        "  select(team, X1998:X2014) %>% \n",
        "  pivot_longer(cols = X1998:X2014,\n",
        "               names_to = \"year\", \n",
        "               names_prefix = \"X\",\n",
        "               values_to = \"win_num\")\n",
        "#win_num[1:3, 1:3]\n",
        "\n",
        "win_pct <- data %>%  # create variable: win_pct and year\n",
        "  select(team, X1998.pct:X2014.pct) %>% \n",
        "  pivot_longer(cols = X1998.pct:X2014.pct,\n",
        "               names_to = \"year\",\n",
        "               names_prefix = \"X\", \n",
        "               values_to = \"win_pct\") %>%\n",
        "  mutate(year = substr(year, 1, 4))\n",
        "#win_pct[1:3, 1:3]\n",
        "\n",
        "# join tables into team, year, payrow, win_num, win_pct\n",
        "data_long <- payroll %>% \n",
        "  inner_join(win_num, by = c(\"team\", \"year\")) %>%\n",
        "  inner_join(win_pct, by = c(\"team\", \"year\")) \n",
        "head(data_long, 2)  # see first 2 rows"
      ],
      "metadata": {
        "colab": {
          "base_uri": "https://localhost:8080/",
          "height": 336
        },
        "id": "1oIwfSYgc1tN",
        "outputId": "05007464-5d83-498d-cb96-4cc8354ca395"
      },
      "execution_count": null,
      "outputs": [
        {
          "output_type": "display_data",
          "data": {
            "text/html": [
              "<table class=\"dataframe\">\n",
              "<caption>A tibble: 3 × 3</caption>\n",
              "<thead>\n",
              "\t<tr><th scope=col>team</th><th scope=col>year</th><th scope=col>payroll</th></tr>\n",
              "\t<tr><th scope=col>&lt;chr&gt;</th><th scope=col>&lt;chr&gt;</th><th scope=col>&lt;dbl&gt;</th></tr>\n",
              "</thead>\n",
              "<tbody>\n",
              "\t<tr><td>Arizona Diamondbacks</td><td>1998</td><td>31.61450</td></tr>\n",
              "\t<tr><td>Arizona Diamondbacks</td><td>1999</td><td>70.49600</td></tr>\n",
              "\t<tr><td>Arizona Diamondbacks</td><td>2000</td><td>81.02783</td></tr>\n",
              "</tbody>\n",
              "</table>\n"
            ],
            "text/markdown": "\nA tibble: 3 × 3\n\n| team &lt;chr&gt; | year &lt;chr&gt; | payroll &lt;dbl&gt; |\n|---|---|---|\n| Arizona Diamondbacks | 1998 | 31.61450 |\n| Arizona Diamondbacks | 1999 | 70.49600 |\n| Arizona Diamondbacks | 2000 | 81.02783 |\n\n",
            "text/latex": "A tibble: 3 × 3\n\\begin{tabular}{lll}\n team & year & payroll\\\\\n <chr> & <chr> & <dbl>\\\\\n\\hline\n\t Arizona Diamondbacks & 1998 & 31.61450\\\\\n\t Arizona Diamondbacks & 1999 & 70.49600\\\\\n\t Arizona Diamondbacks & 2000 & 81.02783\\\\\n\\end{tabular}\n",
            "text/plain": [
              "  team                 year payroll \n",
              "1 Arizona Diamondbacks 1998 31.61450\n",
              "2 Arizona Diamondbacks 1999 70.49600\n",
              "3 Arizona Diamondbacks 2000 81.02783"
            ]
          },
          "metadata": {}
        },
        {
          "output_type": "display_data",
          "data": {
            "text/html": [
              "<table class=\"dataframe\">\n",
              "<caption>A tibble: 2 × 5</caption>\n",
              "<thead>\n",
              "\t<tr><th scope=col>team</th><th scope=col>year</th><th scope=col>payroll</th><th scope=col>win_num</th><th scope=col>win_pct</th></tr>\n",
              "\t<tr><th scope=col>&lt;chr&gt;</th><th scope=col>&lt;chr&gt;</th><th scope=col>&lt;dbl&gt;</th><th scope=col>&lt;int&gt;</th><th scope=col>&lt;dbl&gt;</th></tr>\n",
              "</thead>\n",
              "<tbody>\n",
              "\t<tr><td>Arizona Diamondbacks</td><td>1998</td><td>31.6145</td><td> 65</td><td>0.4012346</td></tr>\n",
              "\t<tr><td>Arizona Diamondbacks</td><td>1999</td><td>70.4960</td><td>100</td><td>0.6172840</td></tr>\n",
              "</tbody>\n",
              "</table>\n"
            ],
            "text/markdown": "\nA tibble: 2 × 5\n\n| team &lt;chr&gt; | year &lt;chr&gt; | payroll &lt;dbl&gt; | win_num &lt;int&gt; | win_pct &lt;dbl&gt; |\n|---|---|---|---|---|\n| Arizona Diamondbacks | 1998 | 31.6145 |  65 | 0.4012346 |\n| Arizona Diamondbacks | 1999 | 70.4960 | 100 | 0.6172840 |\n\n",
            "text/latex": "A tibble: 2 × 5\n\\begin{tabular}{lllll}\n team & year & payroll & win\\_num & win\\_pct\\\\\n <chr> & <chr> & <dbl> & <int> & <dbl>\\\\\n\\hline\n\t Arizona Diamondbacks & 1998 & 31.6145 &  65 & 0.4012346\\\\\n\t Arizona Diamondbacks & 1999 & 70.4960 & 100 & 0.6172840\\\\\n\\end{tabular}\n",
            "text/plain": [
              "  team                 year payroll win_num win_pct  \n",
              "1 Arizona Diamondbacks 1998 31.6145  65     0.4012346\n",
              "2 Arizona Diamondbacks 1999 70.4960 100     0.6172840"
            ]
          },
          "metadata": {}
        }
      ]
    }
  ]
}