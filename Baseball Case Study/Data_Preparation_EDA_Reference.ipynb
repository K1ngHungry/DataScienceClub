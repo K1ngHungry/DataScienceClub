{
  "nbformat": 4,
  "nbformat_minor": 0,
  "metadata": {
    "colab": {
      "provenance": [],
      "collapsed_sections": [],
      "include_colab_link": true
    },
    "kernelspec": {
      "name": "ir",
      "display_name": "R"
    },
    "language_info": {
      "name": "R"
    }
  },
  "cells": [
    {
      "cell_type": "markdown",
      "metadata": {
        "id": "view-in-github",
        "colab_type": "text"
      },
      "source": [
        "<a href=\"https://colab.research.google.com/github/K1ngHungry/DataScienceClub/blob/main/Baseball%20Case%20Study/Data_Preparation_EDA_Reference.ipynb\" target=\"_parent\"><img src=\"https://colab.research.google.com/assets/colab-badge.svg\" alt=\"Open In Colab\"/></a>"
      ]
    },
    {
      "cell_type": "code",
      "source": [
        "if(!require('pacman')) {install.packages('pacman')} #if else statement\n",
        "pacman::p_load(ISLR, readxl, tidyverse, magrittr, dplyr, ggplot2, ggrepel)"
      ],
      "metadata": {
        "id": "hoM-pNqTYAjw"
      },
      "execution_count": 131,
      "outputs": []
    },
    {
      "cell_type": "code",
      "execution_count": 132,
      "metadata": {
        "id": "I7icaNUyRRB_"
      },
      "outputs": [],
      "source": [
        "data <- read.csv('https://raw.githubusercontent.com/K1ngHungry/DataScienceClub/main/Baseball%20Case%20Study/MLPayData_Total.csv')"
      ]
    },
    {
      "cell_type": "code",
      "source": [
        "data[1:4,] #1:4 for rows, keep all columns\n",
        "#below each column is the data type of each variable"
      ],
      "metadata": {
        "id": "HtiL00zgUfNE",
        "colab": {
          "base_uri": "https://localhost:8080/",
          "height": 261
        },
        "outputId": "1252db97-a83f-4dc4-dffc-439564eab2c4"
      },
      "execution_count": 133,
      "outputs": [
        {
          "output_type": "display_data",
          "data": {
            "text/html": [
              "<table class=\"dataframe\">\n",
              "<caption>A data.frame: 4 × 52</caption>\n",
              "<thead>\n",
              "\t<tr><th></th><th scope=col>Team.name.2014</th><th scope=col>p1998</th><th scope=col>p1999</th><th scope=col>p2000</th><th scope=col>p2001</th><th scope=col>p2002</th><th scope=col>p2003</th><th scope=col>p2004</th><th scope=col>p2005</th><th scope=col>p2006</th><th scope=col>⋯</th><th scope=col>X2007.pct</th><th scope=col>X2006.pct</th><th scope=col>X2005.pct</th><th scope=col>X2004.pct</th><th scope=col>X2003.pct</th><th scope=col>X2002.pct</th><th scope=col>X2001.pct</th><th scope=col>X2000.pct</th><th scope=col>X1999.pct</th><th scope=col>X1998.pct</th></tr>\n",
              "\t<tr><th></th><th scope=col>&lt;chr&gt;</th><th scope=col>&lt;dbl&gt;</th><th scope=col>&lt;dbl&gt;</th><th scope=col>&lt;dbl&gt;</th><th scope=col>&lt;dbl&gt;</th><th scope=col>&lt;dbl&gt;</th><th scope=col>&lt;dbl&gt;</th><th scope=col>&lt;dbl&gt;</th><th scope=col>&lt;dbl&gt;</th><th scope=col>&lt;dbl&gt;</th><th scope=col>⋯</th><th scope=col>&lt;dbl&gt;</th><th scope=col>&lt;dbl&gt;</th><th scope=col>&lt;dbl&gt;</th><th scope=col>&lt;dbl&gt;</th><th scope=col>&lt;dbl&gt;</th><th scope=col>&lt;dbl&gt;</th><th scope=col>&lt;dbl&gt;</th><th scope=col>&lt;dbl&gt;</th><th scope=col>&lt;dbl&gt;</th><th scope=col>&lt;dbl&gt;</th></tr>\n",
              "</thead>\n",
              "<tbody>\n",
              "\t<tr><th scope=row>1</th><td>Arizona Diamondbacks</td><td>31.61450</td><td>70.49600</td><td>81.02783</td><td> 81.20651</td><td>102.82000</td><td> 80.64033</td><td> 70.20498</td><td> 63.01583</td><td> 59.68423</td><td>⋯</td><td>0.5555556</td><td>0.4691358</td><td>0.4753086</td><td>0.3148148</td><td>0.5185185</td><td>0.6049383</td><td>0.5679012</td><td>0.5246914</td><td>0.6172840</td><td>0.4012346</td></tr>\n",
              "\t<tr><th scope=row>2</th><td>Atlanta Braves      </td><td>61.70800</td><td>74.89000</td><td>84.53784</td><td> 91.85169</td><td> 93.47037</td><td>106.24367</td><td> 88.50779</td><td> 85.14858</td><td> 90.15688</td><td>⋯</td><td>0.5185185</td><td>0.4876543</td><td>0.5555556</td><td>0.5925926</td><td>0.6234568</td><td>0.6312500</td><td>0.5432099</td><td>0.5864198</td><td>0.6358025</td><td>0.6543210</td></tr>\n",
              "\t<tr><th scope=row>3</th><td>Baltimore Orioles   </td><td>71.86092</td><td>72.19836</td><td>81.44743</td><td> 72.42633</td><td> 60.49349</td><td> 73.87750</td><td> 51.21265</td><td> 74.57054</td><td> 72.58558</td><td>⋯</td><td>0.4259259</td><td>0.4320988</td><td>0.4567901</td><td>0.4814815</td><td>0.4382716</td><td>0.4135802</td><td>0.3913043</td><td>0.4567901</td><td>0.4814815</td><td>0.4876543</td></tr>\n",
              "\t<tr><th scope=row>4</th><td>Boston Red Sox      </td><td>59.49700</td><td>71.72500</td><td>77.94033</td><td>109.55891</td><td>108.36606</td><td> 99.94650</td><td>125.20854</td><td>121.31194</td><td>120.09982</td><td>⋯</td><td>0.5925926</td><td>0.5308642</td><td>0.5864198</td><td>0.6049383</td><td>0.5864198</td><td>0.5740741</td><td>0.5093168</td><td>0.5246914</td><td>0.5802469</td><td>0.5679012</td></tr>\n",
              "</tbody>\n",
              "</table>\n"
            ],
            "text/markdown": "\nA data.frame: 4 × 52\n\n| <!--/--> | Team.name.2014 &lt;chr&gt; | p1998 &lt;dbl&gt; | p1999 &lt;dbl&gt; | p2000 &lt;dbl&gt; | p2001 &lt;dbl&gt; | p2002 &lt;dbl&gt; | p2003 &lt;dbl&gt; | p2004 &lt;dbl&gt; | p2005 &lt;dbl&gt; | p2006 &lt;dbl&gt; | ⋯ ⋯ | X2007.pct &lt;dbl&gt; | X2006.pct &lt;dbl&gt; | X2005.pct &lt;dbl&gt; | X2004.pct &lt;dbl&gt; | X2003.pct &lt;dbl&gt; | X2002.pct &lt;dbl&gt; | X2001.pct &lt;dbl&gt; | X2000.pct &lt;dbl&gt; | X1999.pct &lt;dbl&gt; | X1998.pct &lt;dbl&gt; |\n|---|---|---|---|---|---|---|---|---|---|---|---|---|---|---|---|---|---|---|---|---|---|\n| 1 | Arizona Diamondbacks | 31.61450 | 70.49600 | 81.02783 |  81.20651 | 102.82000 |  80.64033 |  70.20498 |  63.01583 |  59.68423 | ⋯ | 0.5555556 | 0.4691358 | 0.4753086 | 0.3148148 | 0.5185185 | 0.6049383 | 0.5679012 | 0.5246914 | 0.6172840 | 0.4012346 |\n| 2 | Atlanta Braves       | 61.70800 | 74.89000 | 84.53784 |  91.85169 |  93.47037 | 106.24367 |  88.50779 |  85.14858 |  90.15688 | ⋯ | 0.5185185 | 0.4876543 | 0.5555556 | 0.5925926 | 0.6234568 | 0.6312500 | 0.5432099 | 0.5864198 | 0.6358025 | 0.6543210 |\n| 3 | Baltimore Orioles    | 71.86092 | 72.19836 | 81.44743 |  72.42633 |  60.49349 |  73.87750 |  51.21265 |  74.57054 |  72.58558 | ⋯ | 0.4259259 | 0.4320988 | 0.4567901 | 0.4814815 | 0.4382716 | 0.4135802 | 0.3913043 | 0.4567901 | 0.4814815 | 0.4876543 |\n| 4 | Boston Red Sox       | 59.49700 | 71.72500 | 77.94033 | 109.55891 | 108.36606 |  99.94650 | 125.20854 | 121.31194 | 120.09982 | ⋯ | 0.5925926 | 0.5308642 | 0.5864198 | 0.6049383 | 0.5864198 | 0.5740741 | 0.5093168 | 0.5246914 | 0.5802469 | 0.5679012 |\n\n",
            "text/latex": "A data.frame: 4 × 52\n\\begin{tabular}{r|lllllllllllllllllllll}\n  & Team.name.2014 & p1998 & p1999 & p2000 & p2001 & p2002 & p2003 & p2004 & p2005 & p2006 & ⋯ & X2007.pct & X2006.pct & X2005.pct & X2004.pct & X2003.pct & X2002.pct & X2001.pct & X2000.pct & X1999.pct & X1998.pct\\\\\n  & <chr> & <dbl> & <dbl> & <dbl> & <dbl> & <dbl> & <dbl> & <dbl> & <dbl> & <dbl> & ⋯ & <dbl> & <dbl> & <dbl> & <dbl> & <dbl> & <dbl> & <dbl> & <dbl> & <dbl> & <dbl>\\\\\n\\hline\n\t1 & Arizona Diamondbacks & 31.61450 & 70.49600 & 81.02783 &  81.20651 & 102.82000 &  80.64033 &  70.20498 &  63.01583 &  59.68423 & ⋯ & 0.5555556 & 0.4691358 & 0.4753086 & 0.3148148 & 0.5185185 & 0.6049383 & 0.5679012 & 0.5246914 & 0.6172840 & 0.4012346\\\\\n\t2 & Atlanta Braves       & 61.70800 & 74.89000 & 84.53784 &  91.85169 &  93.47037 & 106.24367 &  88.50779 &  85.14858 &  90.15688 & ⋯ & 0.5185185 & 0.4876543 & 0.5555556 & 0.5925926 & 0.6234568 & 0.6312500 & 0.5432099 & 0.5864198 & 0.6358025 & 0.6543210\\\\\n\t3 & Baltimore Orioles    & 71.86092 & 72.19836 & 81.44743 &  72.42633 &  60.49349 &  73.87750 &  51.21265 &  74.57054 &  72.58558 & ⋯ & 0.4259259 & 0.4320988 & 0.4567901 & 0.4814815 & 0.4382716 & 0.4135802 & 0.3913043 & 0.4567901 & 0.4814815 & 0.4876543\\\\\n\t4 & Boston Red Sox       & 59.49700 & 71.72500 & 77.94033 & 109.55891 & 108.36606 &  99.94650 & 125.20854 & 121.31194 & 120.09982 & ⋯ & 0.5925926 & 0.5308642 & 0.5864198 & 0.6049383 & 0.5864198 & 0.5740741 & 0.5093168 & 0.5246914 & 0.5802469 & 0.5679012\\\\\n\\end{tabular}\n",
            "text/plain": [
              "  Team.name.2014       p1998    p1999    p2000    p2001     p2002     p2003    \n",
              "1 Arizona Diamondbacks 31.61450 70.49600 81.02783  81.20651 102.82000  80.64033\n",
              "2 Atlanta Braves       61.70800 74.89000 84.53784  91.85169  93.47037 106.24367\n",
              "3 Baltimore Orioles    71.86092 72.19836 81.44743  72.42633  60.49349  73.87750\n",
              "4 Boston Red Sox       59.49700 71.72500 77.94033 109.55891 108.36606  99.94650\n",
              "  p2004     p2005     p2006     ⋯ X2007.pct X2006.pct X2005.pct X2004.pct\n",
              "1  70.20498  63.01583  59.68423 ⋯ 0.5555556 0.4691358 0.4753086 0.3148148\n",
              "2  88.50779  85.14858  90.15688 ⋯ 0.5185185 0.4876543 0.5555556 0.5925926\n",
              "3  51.21265  74.57054  72.58558 ⋯ 0.4259259 0.4320988 0.4567901 0.4814815\n",
              "4 125.20854 121.31194 120.09982 ⋯ 0.5925926 0.5308642 0.5864198 0.6049383\n",
              "  X2003.pct X2002.pct X2001.pct X2000.pct X1999.pct X1998.pct\n",
              "1 0.5185185 0.6049383 0.5679012 0.5246914 0.6172840 0.4012346\n",
              "2 0.6234568 0.6312500 0.5432099 0.5864198 0.6358025 0.6543210\n",
              "3 0.4382716 0.4135802 0.3913043 0.4567901 0.4814815 0.4876543\n",
              "4 0.5864198 0.5740741 0.5093168 0.5246914 0.5802469 0.5679012"
            ]
          },
          "metadata": {}
        }
      ]
    },
    {
      "cell_type": "code",
      "source": [
        "str(data, list.len = 4)"
      ],
      "metadata": {
        "colab": {
          "base_uri": "https://localhost:8080/"
        },
        "id": "MX7eH1zhWvYa",
        "outputId": "e16d22cd-ba1e-43d9-c2e8-e254df980f4e"
      },
      "execution_count": 134,
      "outputs": [
        {
          "output_type": "stream",
          "name": "stdout",
          "text": [
            "'data.frame':\t30 obs. of  52 variables:\n",
            " $ Team.name.2014: chr  \"Arizona Diamondbacks\" \"Atlanta Braves\" \"Baltimore Orioles\" \"Boston Red Sox\" ...\n",
            " $ p1998         : num  31.6 61.7 71.9 59.5 49.8 ...\n",
            " $ p1999         : num  70.5 74.9 72.2 71.7 42.1 ...\n",
            " $ p2000         : num  81 84.5 81.4 77.9 60.5 ...\n",
            "  [list output truncated]\n"
          ]
        }
      ]
    },
    {
      "cell_type": "code",
      "source": [
        "summary(data)"
      ],
      "metadata": {
        "id": "5GA4Cc6kkbp_",
        "colab": {
          "base_uri": "https://localhost:8080/",
          "height": 1000
        },
        "outputId": "0ea028a1-764a-4497-9029-8b4ceda0d3f1"
      },
      "execution_count": 135,
      "outputs": [
        {
          "output_type": "display_data",
          "data": {
            "text/plain": [
              " Team.name.2014         p1998            p1999           p2000      \n",
              " Length:30          Min.   : 8.317   Min.   :15.15   Min.   :16.52  \n",
              " Class :character   1st Qu.:27.683   1st Qu.:31.67   1st Qu.:38.94  \n",
              " Mode  :character   Median :43.895   Median :46.07   Median :56.54  \n",
              "                    Mean   :41.080   Mean   :48.19   Mean   :55.66  \n",
              "                    3rd Qu.:57.262   3rd Qu.:70.96   3rd Qu.:74.61  \n",
              "                    Max.   :71.861   Max.   :88.18   Max.   :92.54  \n",
              "     p2001            p2002            p2003            p2004       \n",
              " Min.   : 24.35   Min.   : 34.38   Min.   : 19.63   Min.   : 27.52  \n",
              " 1st Qu.: 43.62   1st Qu.: 45.60   1st Qu.: 50.45   1st Qu.: 46.67  \n",
              " Median : 62.85   Median : 61.11   Median : 68.98   Median : 62.21  \n",
              " Mean   : 64.46   Mean   : 67.45   Mean   : 71.03   Mean   : 68.55  \n",
              " 3rd Qu.: 80.22   3rd Qu.: 79.94   3rd Qu.: 83.33   3rd Qu.: 86.89  \n",
              " Max.   :109.79   Max.   :125.93   Max.   :152.75   Max.   :182.84  \n",
              "     p2005            p2006            p2007            p2008       \n",
              " Min.   : 29.89   Min.   : 15.00   Min.   : 24.12   Min.   : 21.81  \n",
              " 1st Qu.: 50.26   1st Qu.: 59.99   1st Qu.: 63.03   1st Qu.: 66.45  \n",
              " Median : 66.01   Median : 72.25   Median : 84.62   Median : 79.95  \n",
              " Mean   : 72.75   Mean   : 77.56   Mean   : 82.63   Mean   : 89.55  \n",
              " 3rd Qu.: 86.88   3rd Qu.: 91.95   3rd Qu.: 98.55   3rd Qu.:118.18  \n",
              " Max.   :205.94   Max.   :194.66   Max.   :189.64   Max.   :209.08  \n",
              "     p2009            p2010            p2011            p2012       \n",
              " Min.   : 36.81   Min.   : 34.94   Min.   : 36.13   Min.   : 55.24  \n",
              " 1st Qu.: 67.49   1st Qu.: 61.74   1st Qu.: 62.81   1st Qu.: 76.13  \n",
              " Median : 81.31   Median : 84.33   Median : 86.71   Median : 85.75  \n",
              " Mean   : 88.35   Mean   : 91.02   Mean   : 92.99   Mean   : 98.02  \n",
              " 3rd Qu.:102.36   3rd Qu.:103.35   3rd Qu.:116.85   3rd Qu.:115.79  \n",
              " Max.   :201.45   Max.   :206.33   Max.   :201.69   Max.   :197.96  \n",
              "     p2013            p2014            X2014          X2013      \n",
              " Min.   : 22.06   Min.   : 44.54   Min.   :64.0   Min.   :51.00  \n",
              " 1st Qu.: 74.00   1st Qu.: 89.02   1st Qu.:73.0   1st Qu.:74.00  \n",
              " Median : 90.39   Median :105.63   Median :80.5   Median :83.00  \n",
              " Mean   :103.29   Mean   :115.13   Mean   :81.0   Mean   :81.03  \n",
              " 3rd Qu.:118.69   3rd Qu.:135.70   3rd Qu.:88.0   3rd Qu.:92.00  \n",
              " Max.   :228.84   Max.   :235.30   Max.   :98.0   Max.   :97.00  \n",
              "     X2012           X2011            X2010           X2009       \n",
              " Min.   :55.00   Min.   : 56.00   Min.   :57.00   Min.   : 59.00  \n",
              " 1st Qu.:72.25   1st Qu.: 72.00   1st Qu.:75.25   1st Qu.: 74.25  \n",
              " Median :82.00   Median : 80.00   Median :81.00   Median : 83.50  \n",
              " Mean   :81.00   Mean   : 80.97   Mean   :81.00   Mean   : 81.00  \n",
              " 3rd Qu.:92.25   3rd Qu.: 90.00   3rd Qu.:90.00   3rd Qu.: 87.75  \n",
              " Max.   :98.00   Max.   :102.00   Max.   :97.00   Max.   :103.00  \n",
              "     X2008            X2007           X2006           X2005       \n",
              " Min.   : 59.00   Min.   :66.00   Min.   :61.00   Min.   : 56.00  \n",
              " 1st Qu.: 74.00   1st Qu.:72.25   1st Qu.:76.00   1st Qu.: 73.25  \n",
              " Median : 83.00   Median :82.50   Median :80.00   Median : 81.00  \n",
              " Mean   : 80.93   Mean   :81.03   Mean   :80.97   Mean   : 81.00  \n",
              " 3rd Qu.: 89.00   3rd Qu.:88.75   3rd Qu.:88.00   3rd Qu.: 88.75  \n",
              " Max.   :100.00   Max.   :96.00   Max.   :97.00   Max.   :100.00  \n",
              "     X2004            X2003            X2002            X2001       \n",
              " Min.   : 51.00   Min.   : 43.00   Min.   : 55.00   Min.   : 62.00  \n",
              " 1st Qu.: 70.25   1st Qu.: 71.00   1st Qu.: 72.00   1st Qu.: 69.25  \n",
              " Median : 83.00   Median : 84.50   Median : 79.50   Median : 82.00  \n",
              " Mean   : 80.93   Mean   : 80.97   Mean   : 80.83   Mean   : 80.93  \n",
              " 3rd Qu.: 91.75   3rd Qu.: 89.50   3rd Qu.: 93.75   3rd Qu.: 89.50  \n",
              " Max.   :105.00   Max.   :101.00   Max.   :103.00   Max.   :116.00  \n",
              "     X2000           X1999            X1998          X2014.pct     \n",
              " Min.   :65.00   Min.   : 63.00   Min.   : 54.00   Min.   :0.3951  \n",
              " 1st Qu.:72.25   1st Qu.: 70.50   1st Qu.: 72.50   1st Qu.:0.4506  \n",
              " Median :82.00   Median : 77.50   Median : 79.50   Median :0.4969  \n",
              " Mean   :80.93   Mean   : 80.90   Mean   : 81.00   Mean   :0.5000  \n",
              " 3rd Qu.:89.25   3rd Qu.: 94.75   3rd Qu.: 88.75   3rd Qu.:0.5432  \n",
              " Max.   :97.00   Max.   :103.00   Max.   :114.00   Max.   :0.6049  \n",
              "   X2013.pct        X2012.pct        X2011.pct        X2010.pct     \n",
              " Min.   :0.3148   Min.   :0.3395   Min.   :0.3457   Min.   :0.3519  \n",
              " 1st Qu.:0.4568   1st Qu.:0.4460   1st Qu.:0.4444   1st Qu.:0.4645  \n",
              " Median :0.5123   Median :0.5062   Median :0.4954   Median :0.5000  \n",
              " Mean   :0.5000   Mean   :0.5000   Mean   :0.5000   Mean   :0.5000  \n",
              " 3rd Qu.:0.5670   3rd Qu.:0.5694   3rd Qu.:0.5556   3rd Qu.:0.5556  \n",
              " Max.   :0.5988   Max.   :0.6049   Max.   :0.6296   Max.   :0.5988  \n",
              "   X2009.pct        X2008.pct        X2007.pct        X2006.pct     \n",
              " Min.   :0.3642   Min.   :0.3665   Min.   :0.4074   Min.   :0.3765  \n",
              " 1st Qu.:0.4583   1st Qu.:0.4568   1st Qu.:0.4460   1st Qu.:0.4691  \n",
              " Median :0.5170   Median :0.5123   Median :0.5093   Median :0.4938  \n",
              " Mean   :0.5000   Mean   :0.5000   Mean   :0.5000   Mean   :0.5000  \n",
              " 3rd Qu.:0.5417   3rd Qu.:0.5485   3rd Qu.:0.5453   3rd Qu.:0.5432  \n",
              " Max.   :0.6358   Max.   :0.6173   Max.   :0.5926   Max.   :0.5988  \n",
              "   X2005.pct        X2004.pct        X2003.pct        X2002.pct     \n",
              " Min.   :0.3457   Min.   :0.3148   Min.   :0.2654   Min.   :0.3416  \n",
              " 1st Qu.:0.4522   1st Qu.:0.4357   1st Qu.:0.4383   1st Qu.:0.4451  \n",
              " Median :0.5000   Median :0.5123   Median :0.5216   Median :0.4923  \n",
              " Mean   :0.5000   Mean   :0.4999   Mean   :0.5000   Mean   :0.5000  \n",
              " 3rd Qu.:0.5478   3rd Qu.:0.5664   3rd Qu.:0.5525   3rd Qu.:0.5814  \n",
              " Max.   :0.6173   Max.   :0.6481   Max.   :0.6235   Max.   :0.6398  \n",
              "   X2001.pct        X2000.pct        X1999.pct        X1998.pct     \n",
              " Min.   :0.3827   Min.   :0.4012   Min.   :0.3937   Min.   :0.3333  \n",
              " 1st Qu.:0.4275   1st Qu.:0.4460   1st Qu.:0.4352   1st Qu.:0.4496  \n",
              " Median :0.5077   Median :0.5062   Median :0.4784   Median :0.4907  \n",
              " Mean   :0.5000   Mean   :0.5000   Mean   :0.4999   Mean   :0.5000  \n",
              " 3rd Qu.:0.5525   3rd Qu.:0.5518   3rd Qu.:0.5849   3rd Qu.:0.5453  \n",
              " Max.   :0.7160   Max.   :0.5988   Max.   :0.6358   Max.   :0.7037  "
            ]
          },
          "metadata": {}
        }
      ]
    },
    {
      "cell_type": "code",
      "source": [
        "?names #? operator pulls up the documentation"
      ],
      "metadata": {
        "id": "SXOqRAMbk34X"
      },
      "execution_count": 136,
      "outputs": []
    },
    {
      "cell_type": "code",
      "source": [
        "names(data) #variable names are under the columns"
      ],
      "metadata": {
        "id": "yPjt0EGyWHUD",
        "colab": {
          "base_uri": "https://localhost:8080/",
          "height": 86
        },
        "outputId": "b6148cd2-c067-4c3c-e597-2589d3eb1531"
      },
      "execution_count": 137,
      "outputs": [
        {
          "output_type": "display_data",
          "data": {
            "text/html": [
              "<style>\n",
              ".list-inline {list-style: none; margin:0; padding: 0}\n",
              ".list-inline>li {display: inline-block}\n",
              ".list-inline>li:not(:last-child)::after {content: \"\\00b7\"; padding: 0 .5ex}\n",
              "</style>\n",
              "<ol class=list-inline><li>'Team.name.2014'</li><li>'p1998'</li><li>'p1999'</li><li>'p2000'</li><li>'p2001'</li><li>'p2002'</li><li>'p2003'</li><li>'p2004'</li><li>'p2005'</li><li>'p2006'</li><li>'p2007'</li><li>'p2008'</li><li>'p2009'</li><li>'p2010'</li><li>'p2011'</li><li>'p2012'</li><li>'p2013'</li><li>'p2014'</li><li>'X2014'</li><li>'X2013'</li><li>'X2012'</li><li>'X2011'</li><li>'X2010'</li><li>'X2009'</li><li>'X2008'</li><li>'X2007'</li><li>'X2006'</li><li>'X2005'</li><li>'X2004'</li><li>'X2003'</li><li>'X2002'</li><li>'X2001'</li><li>'X2000'</li><li>'X1999'</li><li>'X1998'</li><li>'X2014.pct'</li><li>'X2013.pct'</li><li>'X2012.pct'</li><li>'X2011.pct'</li><li>'X2010.pct'</li><li>'X2009.pct'</li><li>'X2008.pct'</li><li>'X2007.pct'</li><li>'X2006.pct'</li><li>'X2005.pct'</li><li>'X2004.pct'</li><li>'X2003.pct'</li><li>'X2002.pct'</li><li>'X2001.pct'</li><li>'X2000.pct'</li><li>'X1999.pct'</li><li>'X1998.pct'</li></ol>\n"
            ],
            "text/markdown": "1. 'Team.name.2014'\n2. 'p1998'\n3. 'p1999'\n4. 'p2000'\n5. 'p2001'\n6. 'p2002'\n7. 'p2003'\n8. 'p2004'\n9. 'p2005'\n10. 'p2006'\n11. 'p2007'\n12. 'p2008'\n13. 'p2009'\n14. 'p2010'\n15. 'p2011'\n16. 'p2012'\n17. 'p2013'\n18. 'p2014'\n19. 'X2014'\n20. 'X2013'\n21. 'X2012'\n22. 'X2011'\n23. 'X2010'\n24. 'X2009'\n25. 'X2008'\n26. 'X2007'\n27. 'X2006'\n28. 'X2005'\n29. 'X2004'\n30. 'X2003'\n31. 'X2002'\n32. 'X2001'\n33. 'X2000'\n34. 'X1999'\n35. 'X1998'\n36. 'X2014.pct'\n37. 'X2013.pct'\n38. 'X2012.pct'\n39. 'X2011.pct'\n40. 'X2010.pct'\n41. 'X2009.pct'\n42. 'X2008.pct'\n43. 'X2007.pct'\n44. 'X2006.pct'\n45. 'X2005.pct'\n46. 'X2004.pct'\n47. 'X2003.pct'\n48. 'X2002.pct'\n49. 'X2001.pct'\n50. 'X2000.pct'\n51. 'X1999.pct'\n52. 'X1998.pct'\n\n\n",
            "text/latex": "\\begin{enumerate*}\n\\item 'Team.name.2014'\n\\item 'p1998'\n\\item 'p1999'\n\\item 'p2000'\n\\item 'p2001'\n\\item 'p2002'\n\\item 'p2003'\n\\item 'p2004'\n\\item 'p2005'\n\\item 'p2006'\n\\item 'p2007'\n\\item 'p2008'\n\\item 'p2009'\n\\item 'p2010'\n\\item 'p2011'\n\\item 'p2012'\n\\item 'p2013'\n\\item 'p2014'\n\\item 'X2014'\n\\item 'X2013'\n\\item 'X2012'\n\\item 'X2011'\n\\item 'X2010'\n\\item 'X2009'\n\\item 'X2008'\n\\item 'X2007'\n\\item 'X2006'\n\\item 'X2005'\n\\item 'X2004'\n\\item 'X2003'\n\\item 'X2002'\n\\item 'X2001'\n\\item 'X2000'\n\\item 'X1999'\n\\item 'X1998'\n\\item 'X2014.pct'\n\\item 'X2013.pct'\n\\item 'X2012.pct'\n\\item 'X2011.pct'\n\\item 'X2010.pct'\n\\item 'X2009.pct'\n\\item 'X2008.pct'\n\\item 'X2007.pct'\n\\item 'X2006.pct'\n\\item 'X2005.pct'\n\\item 'X2004.pct'\n\\item 'X2003.pct'\n\\item 'X2002.pct'\n\\item 'X2001.pct'\n\\item 'X2000.pct'\n\\item 'X1999.pct'\n\\item 'X1998.pct'\n\\end{enumerate*}\n",
            "text/plain": [
              " [1] \"Team.name.2014\" \"p1998\"          \"p1999\"          \"p2000\"         \n",
              " [5] \"p2001\"          \"p2002\"          \"p2003\"          \"p2004\"         \n",
              " [9] \"p2005\"          \"p2006\"          \"p2007\"          \"p2008\"         \n",
              "[13] \"p2009\"          \"p2010\"          \"p2011\"          \"p2012\"         \n",
              "[17] \"p2013\"          \"p2014\"          \"X2014\"          \"X2013\"         \n",
              "[21] \"X2012\"          \"X2011\"          \"X2010\"          \"X2009\"         \n",
              "[25] \"X2008\"          \"X2007\"          \"X2006\"          \"X2005\"         \n",
              "[29] \"X2004\"          \"X2003\"          \"X2002\"          \"X2001\"         \n",
              "[33] \"X2000\"          \"X1999\"          \"X1998\"          \"X2014.pct\"     \n",
              "[37] \"X2013.pct\"      \"X2012.pct\"      \"X2011.pct\"      \"X2010.pct\"     \n",
              "[41] \"X2009.pct\"      \"X2008.pct\"      \"X2007.pct\"      \"X2006.pct\"     \n",
              "[45] \"X2005.pct\"      \"X2004.pct\"      \"X2003.pct\"      \"X2002.pct\"     \n",
              "[49] \"X2001.pct\"      \"X2000.pct\"      \"X1999.pct\"      \"X1998.pct\"     "
            ]
          },
          "metadata": {}
        }
      ]
    },
    {
      "cell_type": "code",
      "source": [
        "data <- data %>% rename(team = Team.name.2014) #piping\n",
        "data[1:4, ]"
      ],
      "metadata": {
        "id": "3_E2KRP3XfdE",
        "colab": {
          "base_uri": "https://localhost:8080/",
          "height": 296
        },
        "outputId": "83406907-ce29-42b1-ee85-29461daeb587"
      },
      "execution_count": 138,
      "outputs": [
        {
          "output_type": "display_data",
          "data": {
            "text/html": [
              "<table class=\"dataframe\">\n",
              "<caption>A data.frame: 4 × 52</caption>\n",
              "<thead>\n",
              "\t<tr><th></th><th scope=col>team</th><th scope=col>p1998</th><th scope=col>p1999</th><th scope=col>p2000</th><th scope=col>p2001</th><th scope=col>p2002</th><th scope=col>p2003</th><th scope=col>p2004</th><th scope=col>p2005</th><th scope=col>p2006</th><th scope=col>⋯</th><th scope=col>X2007.pct</th><th scope=col>X2006.pct</th><th scope=col>X2005.pct</th><th scope=col>X2004.pct</th><th scope=col>X2003.pct</th><th scope=col>X2002.pct</th><th scope=col>X2001.pct</th><th scope=col>X2000.pct</th><th scope=col>X1999.pct</th><th scope=col>X1998.pct</th></tr>\n",
              "\t<tr><th></th><th scope=col>&lt;chr&gt;</th><th scope=col>&lt;dbl&gt;</th><th scope=col>&lt;dbl&gt;</th><th scope=col>&lt;dbl&gt;</th><th scope=col>&lt;dbl&gt;</th><th scope=col>&lt;dbl&gt;</th><th scope=col>&lt;dbl&gt;</th><th scope=col>&lt;dbl&gt;</th><th scope=col>&lt;dbl&gt;</th><th scope=col>&lt;dbl&gt;</th><th scope=col>⋯</th><th scope=col>&lt;dbl&gt;</th><th scope=col>&lt;dbl&gt;</th><th scope=col>&lt;dbl&gt;</th><th scope=col>&lt;dbl&gt;</th><th scope=col>&lt;dbl&gt;</th><th scope=col>&lt;dbl&gt;</th><th scope=col>&lt;dbl&gt;</th><th scope=col>&lt;dbl&gt;</th><th scope=col>&lt;dbl&gt;</th><th scope=col>&lt;dbl&gt;</th></tr>\n",
              "</thead>\n",
              "<tbody>\n",
              "\t<tr><th scope=row>1</th><td>Arizona Diamondbacks</td><td>31.61450</td><td>70.49600</td><td>81.02783</td><td> 81.20651</td><td>102.82000</td><td> 80.64033</td><td> 70.20498</td><td> 63.01583</td><td> 59.68423</td><td>⋯</td><td>0.5555556</td><td>0.4691358</td><td>0.4753086</td><td>0.3148148</td><td>0.5185185</td><td>0.6049383</td><td>0.5679012</td><td>0.5246914</td><td>0.6172840</td><td>0.4012346</td></tr>\n",
              "\t<tr><th scope=row>2</th><td>Atlanta Braves      </td><td>61.70800</td><td>74.89000</td><td>84.53784</td><td> 91.85169</td><td> 93.47037</td><td>106.24367</td><td> 88.50779</td><td> 85.14858</td><td> 90.15688</td><td>⋯</td><td>0.5185185</td><td>0.4876543</td><td>0.5555556</td><td>0.5925926</td><td>0.6234568</td><td>0.6312500</td><td>0.5432099</td><td>0.5864198</td><td>0.6358025</td><td>0.6543210</td></tr>\n",
              "\t<tr><th scope=row>3</th><td>Baltimore Orioles   </td><td>71.86092</td><td>72.19836</td><td>81.44743</td><td> 72.42633</td><td> 60.49349</td><td> 73.87750</td><td> 51.21265</td><td> 74.57054</td><td> 72.58558</td><td>⋯</td><td>0.4259259</td><td>0.4320988</td><td>0.4567901</td><td>0.4814815</td><td>0.4382716</td><td>0.4135802</td><td>0.3913043</td><td>0.4567901</td><td>0.4814815</td><td>0.4876543</td></tr>\n",
              "\t<tr><th scope=row>4</th><td>Boston Red Sox      </td><td>59.49700</td><td>71.72500</td><td>77.94033</td><td>109.55891</td><td>108.36606</td><td> 99.94650</td><td>125.20854</td><td>121.31194</td><td>120.09982</td><td>⋯</td><td>0.5925926</td><td>0.5308642</td><td>0.5864198</td><td>0.6049383</td><td>0.5864198</td><td>0.5740741</td><td>0.5093168</td><td>0.5246914</td><td>0.5802469</td><td>0.5679012</td></tr>\n",
              "</tbody>\n",
              "</table>\n"
            ],
            "text/markdown": "\nA data.frame: 4 × 52\n\n| <!--/--> | team &lt;chr&gt; | p1998 &lt;dbl&gt; | p1999 &lt;dbl&gt; | p2000 &lt;dbl&gt; | p2001 &lt;dbl&gt; | p2002 &lt;dbl&gt; | p2003 &lt;dbl&gt; | p2004 &lt;dbl&gt; | p2005 &lt;dbl&gt; | p2006 &lt;dbl&gt; | ⋯ ⋯ | X2007.pct &lt;dbl&gt; | X2006.pct &lt;dbl&gt; | X2005.pct &lt;dbl&gt; | X2004.pct &lt;dbl&gt; | X2003.pct &lt;dbl&gt; | X2002.pct &lt;dbl&gt; | X2001.pct &lt;dbl&gt; | X2000.pct &lt;dbl&gt; | X1999.pct &lt;dbl&gt; | X1998.pct &lt;dbl&gt; |\n|---|---|---|---|---|---|---|---|---|---|---|---|---|---|---|---|---|---|---|---|---|---|\n| 1 | Arizona Diamondbacks | 31.61450 | 70.49600 | 81.02783 |  81.20651 | 102.82000 |  80.64033 |  70.20498 |  63.01583 |  59.68423 | ⋯ | 0.5555556 | 0.4691358 | 0.4753086 | 0.3148148 | 0.5185185 | 0.6049383 | 0.5679012 | 0.5246914 | 0.6172840 | 0.4012346 |\n| 2 | Atlanta Braves       | 61.70800 | 74.89000 | 84.53784 |  91.85169 |  93.47037 | 106.24367 |  88.50779 |  85.14858 |  90.15688 | ⋯ | 0.5185185 | 0.4876543 | 0.5555556 | 0.5925926 | 0.6234568 | 0.6312500 | 0.5432099 | 0.5864198 | 0.6358025 | 0.6543210 |\n| 3 | Baltimore Orioles    | 71.86092 | 72.19836 | 81.44743 |  72.42633 |  60.49349 |  73.87750 |  51.21265 |  74.57054 |  72.58558 | ⋯ | 0.4259259 | 0.4320988 | 0.4567901 | 0.4814815 | 0.4382716 | 0.4135802 | 0.3913043 | 0.4567901 | 0.4814815 | 0.4876543 |\n| 4 | Boston Red Sox       | 59.49700 | 71.72500 | 77.94033 | 109.55891 | 108.36606 |  99.94650 | 125.20854 | 121.31194 | 120.09982 | ⋯ | 0.5925926 | 0.5308642 | 0.5864198 | 0.6049383 | 0.5864198 | 0.5740741 | 0.5093168 | 0.5246914 | 0.5802469 | 0.5679012 |\n\n",
            "text/latex": "A data.frame: 4 × 52\n\\begin{tabular}{r|lllllllllllllllllllll}\n  & team & p1998 & p1999 & p2000 & p2001 & p2002 & p2003 & p2004 & p2005 & p2006 & ⋯ & X2007.pct & X2006.pct & X2005.pct & X2004.pct & X2003.pct & X2002.pct & X2001.pct & X2000.pct & X1999.pct & X1998.pct\\\\\n  & <chr> & <dbl> & <dbl> & <dbl> & <dbl> & <dbl> & <dbl> & <dbl> & <dbl> & <dbl> & ⋯ & <dbl> & <dbl> & <dbl> & <dbl> & <dbl> & <dbl> & <dbl> & <dbl> & <dbl> & <dbl>\\\\\n\\hline\n\t1 & Arizona Diamondbacks & 31.61450 & 70.49600 & 81.02783 &  81.20651 & 102.82000 &  80.64033 &  70.20498 &  63.01583 &  59.68423 & ⋯ & 0.5555556 & 0.4691358 & 0.4753086 & 0.3148148 & 0.5185185 & 0.6049383 & 0.5679012 & 0.5246914 & 0.6172840 & 0.4012346\\\\\n\t2 & Atlanta Braves       & 61.70800 & 74.89000 & 84.53784 &  91.85169 &  93.47037 & 106.24367 &  88.50779 &  85.14858 &  90.15688 & ⋯ & 0.5185185 & 0.4876543 & 0.5555556 & 0.5925926 & 0.6234568 & 0.6312500 & 0.5432099 & 0.5864198 & 0.6358025 & 0.6543210\\\\\n\t3 & Baltimore Orioles    & 71.86092 & 72.19836 & 81.44743 &  72.42633 &  60.49349 &  73.87750 &  51.21265 &  74.57054 &  72.58558 & ⋯ & 0.4259259 & 0.4320988 & 0.4567901 & 0.4814815 & 0.4382716 & 0.4135802 & 0.3913043 & 0.4567901 & 0.4814815 & 0.4876543\\\\\n\t4 & Boston Red Sox       & 59.49700 & 71.72500 & 77.94033 & 109.55891 & 108.36606 &  99.94650 & 125.20854 & 121.31194 & 120.09982 & ⋯ & 0.5925926 & 0.5308642 & 0.5864198 & 0.6049383 & 0.5864198 & 0.5740741 & 0.5093168 & 0.5246914 & 0.5802469 & 0.5679012\\\\\n\\end{tabular}\n",
            "text/plain": [
              "  team                 p1998    p1999    p2000    p2001     p2002     p2003    \n",
              "1 Arizona Diamondbacks 31.61450 70.49600 81.02783  81.20651 102.82000  80.64033\n",
              "2 Atlanta Braves       61.70800 74.89000 84.53784  91.85169  93.47037 106.24367\n",
              "3 Baltimore Orioles    71.86092 72.19836 81.44743  72.42633  60.49349  73.87750\n",
              "4 Boston Red Sox       59.49700 71.72500 77.94033 109.55891 108.36606  99.94650\n",
              "  p2004     p2005     p2006     ⋯ X2007.pct X2006.pct X2005.pct X2004.pct\n",
              "1  70.20498  63.01583  59.68423 ⋯ 0.5555556 0.4691358 0.4753086 0.3148148\n",
              "2  88.50779  85.14858  90.15688 ⋯ 0.5185185 0.4876543 0.5555556 0.5925926\n",
              "3  51.21265  74.57054  72.58558 ⋯ 0.4259259 0.4320988 0.4567901 0.4814815\n",
              "4 125.20854 121.31194 120.09982 ⋯ 0.5925926 0.5308642 0.5864198 0.6049383\n",
              "  X2003.pct X2002.pct X2001.pct X2000.pct X1999.pct X1998.pct\n",
              "1 0.5185185 0.6049383 0.5679012 0.5246914 0.6172840 0.4012346\n",
              "2 0.6234568 0.6312500 0.5432099 0.5864198 0.6358025 0.6543210\n",
              "3 0.4382716 0.4135802 0.3913043 0.4567901 0.4814815 0.4876543\n",
              "4 0.5864198 0.5740741 0.5093168 0.5246914 0.5802469 0.5679012"
            ]
          },
          "metadata": {}
        }
      ]
    },
    {
      "cell_type": "code",
      "source": [
        "names(data)"
      ],
      "metadata": {
        "colab": {
          "base_uri": "https://localhost:8080/",
          "height": 69
        },
        "id": "Hgs5onHqigyC",
        "outputId": "373d9f21-2a3c-4a33-b1b7-cfb97fcc0a80"
      },
      "execution_count": 139,
      "outputs": [
        {
          "output_type": "display_data",
          "data": {
            "text/html": [
              "<style>\n",
              ".list-inline {list-style: none; margin:0; padding: 0}\n",
              ".list-inline>li {display: inline-block}\n",
              ".list-inline>li:not(:last-child)::after {content: \"\\00b7\"; padding: 0 .5ex}\n",
              "</style>\n",
              "<ol class=list-inline><li>'team'</li><li>'p1998'</li><li>'p1999'</li><li>'p2000'</li><li>'p2001'</li><li>'p2002'</li><li>'p2003'</li><li>'p2004'</li><li>'p2005'</li><li>'p2006'</li><li>'p2007'</li><li>'p2008'</li><li>'p2009'</li><li>'p2010'</li><li>'p2011'</li><li>'p2012'</li><li>'p2013'</li><li>'p2014'</li><li>'X2014'</li><li>'X2013'</li><li>'X2012'</li><li>'X2011'</li><li>'X2010'</li><li>'X2009'</li><li>'X2008'</li><li>'X2007'</li><li>'X2006'</li><li>'X2005'</li><li>'X2004'</li><li>'X2003'</li><li>'X2002'</li><li>'X2001'</li><li>'X2000'</li><li>'X1999'</li><li>'X1998'</li><li>'X2014.pct'</li><li>'X2013.pct'</li><li>'X2012.pct'</li><li>'X2011.pct'</li><li>'X2010.pct'</li><li>'X2009.pct'</li><li>'X2008.pct'</li><li>'X2007.pct'</li><li>'X2006.pct'</li><li>'X2005.pct'</li><li>'X2004.pct'</li><li>'X2003.pct'</li><li>'X2002.pct'</li><li>'X2001.pct'</li><li>'X2000.pct'</li><li>'X1999.pct'</li><li>'X1998.pct'</li></ol>\n"
            ],
            "text/markdown": "1. 'team'\n2. 'p1998'\n3. 'p1999'\n4. 'p2000'\n5. 'p2001'\n6. 'p2002'\n7. 'p2003'\n8. 'p2004'\n9. 'p2005'\n10. 'p2006'\n11. 'p2007'\n12. 'p2008'\n13. 'p2009'\n14. 'p2010'\n15. 'p2011'\n16. 'p2012'\n17. 'p2013'\n18. 'p2014'\n19. 'X2014'\n20. 'X2013'\n21. 'X2012'\n22. 'X2011'\n23. 'X2010'\n24. 'X2009'\n25. 'X2008'\n26. 'X2007'\n27. 'X2006'\n28. 'X2005'\n29. 'X2004'\n30. 'X2003'\n31. 'X2002'\n32. 'X2001'\n33. 'X2000'\n34. 'X1999'\n35. 'X1998'\n36. 'X2014.pct'\n37. 'X2013.pct'\n38. 'X2012.pct'\n39. 'X2011.pct'\n40. 'X2010.pct'\n41. 'X2009.pct'\n42. 'X2008.pct'\n43. 'X2007.pct'\n44. 'X2006.pct'\n45. 'X2005.pct'\n46. 'X2004.pct'\n47. 'X2003.pct'\n48. 'X2002.pct'\n49. 'X2001.pct'\n50. 'X2000.pct'\n51. 'X1999.pct'\n52. 'X1998.pct'\n\n\n",
            "text/latex": "\\begin{enumerate*}\n\\item 'team'\n\\item 'p1998'\n\\item 'p1999'\n\\item 'p2000'\n\\item 'p2001'\n\\item 'p2002'\n\\item 'p2003'\n\\item 'p2004'\n\\item 'p2005'\n\\item 'p2006'\n\\item 'p2007'\n\\item 'p2008'\n\\item 'p2009'\n\\item 'p2010'\n\\item 'p2011'\n\\item 'p2012'\n\\item 'p2013'\n\\item 'p2014'\n\\item 'X2014'\n\\item 'X2013'\n\\item 'X2012'\n\\item 'X2011'\n\\item 'X2010'\n\\item 'X2009'\n\\item 'X2008'\n\\item 'X2007'\n\\item 'X2006'\n\\item 'X2005'\n\\item 'X2004'\n\\item 'X2003'\n\\item 'X2002'\n\\item 'X2001'\n\\item 'X2000'\n\\item 'X1999'\n\\item 'X1998'\n\\item 'X2014.pct'\n\\item 'X2013.pct'\n\\item 'X2012.pct'\n\\item 'X2011.pct'\n\\item 'X2010.pct'\n\\item 'X2009.pct'\n\\item 'X2008.pct'\n\\item 'X2007.pct'\n\\item 'X2006.pct'\n\\item 'X2005.pct'\n\\item 'X2004.pct'\n\\item 'X2003.pct'\n\\item 'X2002.pct'\n\\item 'X2001.pct'\n\\item 'X2000.pct'\n\\item 'X1999.pct'\n\\item 'X1998.pct'\n\\end{enumerate*}\n",
            "text/plain": [
              " [1] \"team\"      \"p1998\"     \"p1999\"     \"p2000\"     \"p2001\"     \"p2002\"    \n",
              " [7] \"p2003\"     \"p2004\"     \"p2005\"     \"p2006\"     \"p2007\"     \"p2008\"    \n",
              "[13] \"p2009\"     \"p2010\"     \"p2011\"     \"p2012\"     \"p2013\"     \"p2014\"    \n",
              "[19] \"X2014\"     \"X2013\"     \"X2012\"     \"X2011\"     \"X2010\"     \"X2009\"    \n",
              "[25] \"X2008\"     \"X2007\"     \"X2006\"     \"X2005\"     \"X2004\"     \"X2003\"    \n",
              "[31] \"X2002\"     \"X2001\"     \"X2000\"     \"X1999\"     \"X1998\"     \"X2014.pct\"\n",
              "[37] \"X2013.pct\" \"X2012.pct\" \"X2011.pct\" \"X2010.pct\" \"X2009.pct\" \"X2008.pct\"\n",
              "[43] \"X2007.pct\" \"X2006.pct\" \"X2005.pct\" \"X2004.pct\" \"X2003.pct\" \"X2002.pct\"\n",
              "[49] \"X2001.pct\" \"X2000.pct\" \"X1999.pct\" \"X1998.pct\""
            ]
          },
          "metadata": {}
        }
      ]
    },
    {
      "cell_type": "code",
      "source": [
        "#pivot_longer is a function that reformats data so there are less columns and more rows\n",
        "\n",
        "payroll <- data %>%   # first create variable: payroll and year\n",
        "  select(team, p1998:p2014) %>% \n",
        "  pivot_longer(cols = starts_with(\"p\"), \n",
        "               names_to = \"year\", \n",
        "               names_prefix = \"p\",\n",
        "               values_to = \"payroll\")\n",
        "payroll[1:3, 1:3] # show a few rows\n",
        "\n",
        "win_num <- data %>%  # create variable: win_num and year\n",
        "  select(team, X1998:X2014) %>% \n",
        "  pivot_longer(cols = X1998:X2014,\n",
        "               names_to = \"year\", \n",
        "               names_prefix = \"X\",\n",
        "               values_to = \"win_num\")\n",
        "#win_num[1:3, 1:3]\n",
        "\n",
        "win_pct <- data %>%  # create variable: win_pct and year\n",
        "  select(team, X1998.pct:X2014.pct) %>% \n",
        "  pivot_longer(cols = X1998.pct:X2014.pct,\n",
        "               names_to = \"year\",\n",
        "               names_prefix = \"X\", \n",
        "               values_to = \"win_pct\") %>%\n",
        "  mutate(year = substr(year, 1, 4))\n",
        "#win_pct[1:3, 1:3]\n",
        "\n",
        "# join tables into team, year, payrow, win_num, win_pct\n",
        "data2 <- payroll %>% \n",
        "  inner_join(win_num, by = c(\"team\", \"year\")) %>%\n",
        "  inner_join(win_pct, by = c(\"team\", \"year\")) \n",
        "head(data2, 2)  # see first 2 rows"
      ],
      "metadata": {
        "colab": {
          "base_uri": "https://localhost:8080/",
          "height": 336
        },
        "id": "1oIwfSYgc1tN",
        "outputId": "4664cbb1-9512-4b93-8323-26d56cb64333"
      },
      "execution_count": 140,
      "outputs": [
        {
          "output_type": "display_data",
          "data": {
            "text/html": [
              "<table class=\"dataframe\">\n",
              "<caption>A tibble: 3 × 3</caption>\n",
              "<thead>\n",
              "\t<tr><th scope=col>team</th><th scope=col>year</th><th scope=col>payroll</th></tr>\n",
              "\t<tr><th scope=col>&lt;chr&gt;</th><th scope=col>&lt;chr&gt;</th><th scope=col>&lt;dbl&gt;</th></tr>\n",
              "</thead>\n",
              "<tbody>\n",
              "\t<tr><td>Arizona Diamondbacks</td><td>1998</td><td>31.61450</td></tr>\n",
              "\t<tr><td>Arizona Diamondbacks</td><td>1999</td><td>70.49600</td></tr>\n",
              "\t<tr><td>Arizona Diamondbacks</td><td>2000</td><td>81.02783</td></tr>\n",
              "</tbody>\n",
              "</table>\n"
            ],
            "text/markdown": "\nA tibble: 3 × 3\n\n| team &lt;chr&gt; | year &lt;chr&gt; | payroll &lt;dbl&gt; |\n|---|---|---|\n| Arizona Diamondbacks | 1998 | 31.61450 |\n| Arizona Diamondbacks | 1999 | 70.49600 |\n| Arizona Diamondbacks | 2000 | 81.02783 |\n\n",
            "text/latex": "A tibble: 3 × 3\n\\begin{tabular}{lll}\n team & year & payroll\\\\\n <chr> & <chr> & <dbl>\\\\\n\\hline\n\t Arizona Diamondbacks & 1998 & 31.61450\\\\\n\t Arizona Diamondbacks & 1999 & 70.49600\\\\\n\t Arizona Diamondbacks & 2000 & 81.02783\\\\\n\\end{tabular}\n",
            "text/plain": [
              "  team                 year payroll \n",
              "1 Arizona Diamondbacks 1998 31.61450\n",
              "2 Arizona Diamondbacks 1999 70.49600\n",
              "3 Arizona Diamondbacks 2000 81.02783"
            ]
          },
          "metadata": {}
        },
        {
          "output_type": "display_data",
          "data": {
            "text/html": [
              "<table class=\"dataframe\">\n",
              "<caption>A tibble: 2 × 5</caption>\n",
              "<thead>\n",
              "\t<tr><th scope=col>team</th><th scope=col>year</th><th scope=col>payroll</th><th scope=col>win_num</th><th scope=col>win_pct</th></tr>\n",
              "\t<tr><th scope=col>&lt;chr&gt;</th><th scope=col>&lt;chr&gt;</th><th scope=col>&lt;dbl&gt;</th><th scope=col>&lt;int&gt;</th><th scope=col>&lt;dbl&gt;</th></tr>\n",
              "</thead>\n",
              "<tbody>\n",
              "\t<tr><td>Arizona Diamondbacks</td><td>1998</td><td>31.6145</td><td> 65</td><td>0.4012346</td></tr>\n",
              "\t<tr><td>Arizona Diamondbacks</td><td>1999</td><td>70.4960</td><td>100</td><td>0.6172840</td></tr>\n",
              "</tbody>\n",
              "</table>\n"
            ],
            "text/markdown": "\nA tibble: 2 × 5\n\n| team &lt;chr&gt; | year &lt;chr&gt; | payroll &lt;dbl&gt; | win_num &lt;int&gt; | win_pct &lt;dbl&gt; |\n|---|---|---|---|---|\n| Arizona Diamondbacks | 1998 | 31.6145 |  65 | 0.4012346 |\n| Arizona Diamondbacks | 1999 | 70.4960 | 100 | 0.6172840 |\n\n",
            "text/latex": "A tibble: 2 × 5\n\\begin{tabular}{lllll}\n team & year & payroll & win\\_num & win\\_pct\\\\\n <chr> & <chr> & <dbl> & <int> & <dbl>\\\\\n\\hline\n\t Arizona Diamondbacks & 1998 & 31.6145 &  65 & 0.4012346\\\\\n\t Arizona Diamondbacks & 1999 & 70.4960 & 100 & 0.6172840\\\\\n\\end{tabular}\n",
            "text/plain": [
              "  team                 year payroll win_num win_pct  \n",
              "1 Arizona Diamondbacks 1998 31.6145  65     0.4012346\n",
              "2 Arizona Diamondbacks 1999 70.4960 100     0.6172840"
            ]
          },
          "metadata": {}
        }
      ]
    },
    {
      "cell_type": "code",
      "source": [
        "names(data2) #new variable names"
      ],
      "metadata": {
        "colab": {
          "base_uri": "https://localhost:8080/",
          "height": 34
        },
        "id": "_FRBfJEND3zU",
        "outputId": "47c4e06b-7367-453b-880a-d94d700a2e50"
      },
      "execution_count": 141,
      "outputs": [
        {
          "output_type": "display_data",
          "data": {
            "text/html": [
              "<style>\n",
              ".list-inline {list-style: none; margin:0; padding: 0}\n",
              ".list-inline>li {display: inline-block}\n",
              ".list-inline>li:not(:last-child)::after {content: \"\\00b7\"; padding: 0 .5ex}\n",
              "</style>\n",
              "<ol class=list-inline><li>'team'</li><li>'year'</li><li>'payroll'</li><li>'win_num'</li><li>'win_pct'</li></ol>\n"
            ],
            "text/markdown": "1. 'team'\n2. 'year'\n3. 'payroll'\n4. 'win_num'\n5. 'win_pct'\n\n\n",
            "text/latex": "\\begin{enumerate*}\n\\item 'team'\n\\item 'year'\n\\item 'payroll'\n\\item 'win\\_num'\n\\item 'win\\_pct'\n\\end{enumerate*}\n",
            "text/plain": [
              "[1] \"team\"    \"year\"    \"payroll\" \"win_num\" \"win_pct\""
            ]
          },
          "metadata": {}
        }
      ]
    },
    {
      "cell_type": "code",
      "source": [
        "write.csv(data2, \"baseball.csv\", row.names = F)"
      ],
      "metadata": {
        "id": "mw3qCZlMEYHh"
      },
      "execution_count": 142,
      "outputs": []
    },
    {
      "cell_type": "code",
      "source": [
        "baseball <- read.csv('/content/baseball.csv')\n",
        "names(baseball)"
      ],
      "metadata": {
        "colab": {
          "base_uri": "https://localhost:8080/",
          "height": 34
        },
        "id": "iSZfcI60IEmi",
        "outputId": "2f3ddbf0-0197-4f2f-ec32-5fbe1afcba06"
      },
      "execution_count": 143,
      "outputs": [
        {
          "output_type": "display_data",
          "data": {
            "text/html": [
              "<style>\n",
              ".list-inline {list-style: none; margin:0; padding: 0}\n",
              ".list-inline>li {display: inline-block}\n",
              ".list-inline>li:not(:last-child)::after {content: \"\\00b7\"; padding: 0 .5ex}\n",
              "</style>\n",
              "<ol class=list-inline><li>'team'</li><li>'year'</li><li>'payroll'</li><li>'win_num'</li><li>'win_pct'</li></ol>\n"
            ],
            "text/markdown": "1. 'team'\n2. 'year'\n3. 'payroll'\n4. 'win_num'\n5. 'win_pct'\n\n\n",
            "text/latex": "\\begin{enumerate*}\n\\item 'team'\n\\item 'year'\n\\item 'payroll'\n\\item 'win\\_num'\n\\item 'win\\_pct'\n\\end{enumerate*}\n",
            "text/plain": [
              "[1] \"team\"    \"year\"    \"payroll\" \"win_num\" \"win_pct\""
            ]
          },
          "metadata": {}
        }
      ]
    },
    {
      "cell_type": "code",
      "source": [
        "data3 <- baseball %>% #baseball is piped into the next function\n",
        "  group_by(team) %>% #grouping by team\n",
        "  summarise(\n",
        "    payroll_total = sum(payroll)/1000, #for each team, we create a new var called payroll_total and it is the sum of payrolls, converted from millions to billions\n",
        "    win_pct_avg = mean(win_pct)) #similarly, win_pct_avg is the mean of win_pct for each team\n",
        "str(data3)\n",
        "summary(data3)"
      ],
      "metadata": {
        "colab": {
          "base_uri": "https://localhost:8080/",
          "height": 208
        },
        "id": "w74h90FXIY3J",
        "outputId": "6b5daf1e-5ccf-4908-b085-3756c21079f7"
      },
      "execution_count": 144,
      "outputs": [
        {
          "output_type": "stream",
          "name": "stdout",
          "text": [
            "tibble [30 × 3] (S3: tbl_df/tbl/data.frame)\n",
            " $ team         : chr [1:30] \"Arizona Diamondbacks\" \"Atlanta Braves\" \"Baltimore Orioles\" \"Boston Red Sox\" ...\n",
            " $ payroll_total: num [1:30] 1.22 1.52 1.31 2.1 1.55 ...\n",
            " $ win_pct_avg  : num [1:30] 0.492 0.563 0.459 0.553 0.476 ...\n"
          ]
        },
        {
          "output_type": "display_data",
          "data": {
            "text/plain": [
              "     team           payroll_total     win_pct_avg    \n",
              " Length:30          Min.   :0.6981   Min.   :0.4335  \n",
              " Class :character   1st Qu.:1.0215   1st Qu.:0.4735  \n",
              " Mode  :character   Median :1.2641   Median :0.4923  \n",
              "                    Mean   :1.3277   Mean   :0.5000  \n",
              "                    3rd Qu.:1.5166   3rd Qu.:0.5263  \n",
              "                    Max.   :2.8571   Max.   :0.5938  "
            ]
          },
          "metadata": {}
        }
      ]
    },
    {
      "cell_type": "code",
      "source": [
        "data3"
      ],
      "metadata": {
        "colab": {
          "base_uri": "https://localhost:8080/",
          "height": 1000
        },
        "id": "1Q76lFfnMPgp",
        "outputId": "87b0173b-388a-4215-a8f5-868223ab5b05"
      },
      "execution_count": 145,
      "outputs": [
        {
          "output_type": "display_data",
          "data": {
            "text/html": [
              "<table class=\"dataframe\">\n",
              "<caption>A tibble: 30 × 3</caption>\n",
              "<thead>\n",
              "\t<tr><th scope=col>team</th><th scope=col>payroll_total</th><th scope=col>win_pct_avg</th></tr>\n",
              "\t<tr><th scope=col>&lt;chr&gt;</th><th scope=col>&lt;dbl&gt;</th><th scope=col>&lt;dbl&gt;</th></tr>\n",
              "</thead>\n",
              "<tbody>\n",
              "\t<tr><td>Arizona Diamondbacks </td><td>1.2229841</td><td>0.4920116</td></tr>\n",
              "\t<tr><td>Atlanta Braves       </td><td>1.5183098</td><td>0.5632761</td></tr>\n",
              "\t<tr><td>Baltimore Orioles    </td><td>1.3052710</td><td>0.4592642</td></tr>\n",
              "\t<tr><td>Boston Red Sox       </td><td>2.1035807</td><td>0.5528356</td></tr>\n",
              "\t<tr><td>Chicago Cubs         </td><td>1.5517256</td><td>0.4758772</td></tr>\n",
              "\t<tr><td>Chicago White Sox    </td><td>1.3751059</td><td>0.5083224</td></tr>\n",
              "\t<tr><td>Cincinnati Reds      </td><td>1.1187674</td><td>0.4925240</td></tr>\n",
              "\t<tr><td>Cleveland Indians    </td><td>1.1131666</td><td>0.5068991</td></tr>\n",
              "\t<tr><td>Colorado Rockies     </td><td>1.1293117</td><td>0.4638518</td></tr>\n",
              "\t<tr><td>Detroit Tigers       </td><td>1.4839380</td><td>0.4757598</td></tr>\n",
              "\t<tr><td>Houston Astros       </td><td>1.1627931</td><td>0.4863958</td></tr>\n",
              "\t<tr><td>Kansas City Royals   </td><td>0.8699087</td><td>0.4334948</td></tr>\n",
              "\t<tr><td>Los Angeles Angels   </td><td>1.6608796</td><td>0.5395788</td></tr>\n",
              "\t<tr><td>Los Angeles Dodgers  </td><td>1.8741943</td><td>0.5288705</td></tr>\n",
              "\t<tr><td>Miami Marlins        </td><td>0.6980929</td><td>0.4684141</td></tr>\n",
              "\t<tr><td>Milwaukee Brewers    </td><td>1.0539193</td><td>0.4727218</td></tr>\n",
              "\t<tr><td>Minnesota Twins      </td><td>1.0106997</td><td>0.4921197</td></tr>\n",
              "\t<tr><td>New York Mets        </td><td>1.7185959</td><td>0.5022806</td></tr>\n",
              "\t<tr><td>New York Yankees     </td><td>2.8570926</td><td>0.5938154</td></tr>\n",
              "\t<tr><td>Oakland Athletics    </td><td>0.8875729</td><td>0.5392270</td></tr>\n",
              "\t<tr><td>Philadelphia Phillies</td><td>1.6893115</td><td>0.5186989</td></tr>\n",
              "\t<tr><td>Pittsburgh Pirates   </td><td>0.7717683</td><td>0.4429063</td></tr>\n",
              "\t<tr><td>San Diego Padres     </td><td>0.9395651</td><td>0.4830988</td></tr>\n",
              "\t<tr><td>San Francisco Giants </td><td>1.5113513</td><td>0.5327296</td></tr>\n",
              "\t<tr><td>Seattle Mariners     </td><td>1.3992147</td><td>0.4914568</td></tr>\n",
              "\t<tr><td>St. Louis Cardinals  </td><td>1.4583757</td><td>0.5530070</td></tr>\n",
              "\t<tr><td>Tampa Bay Rays       </td><td>0.7761869</td><td>0.4621062</td></tr>\n",
              "\t<tr><td>Texas Rangers        </td><td>1.4114163</td><td>0.5066963</td></tr>\n",
              "\t<tr><td>Toronto Blue Jays    </td><td>1.2116357</td><td>0.4986987</td></tr>\n",
              "\t<tr><td>Washington Nationals </td><td>0.9466941</td><td>0.4625502</td></tr>\n",
              "</tbody>\n",
              "</table>\n"
            ],
            "text/markdown": "\nA tibble: 30 × 3\n\n| team &lt;chr&gt; | payroll_total &lt;dbl&gt; | win_pct_avg &lt;dbl&gt; |\n|---|---|---|\n| Arizona Diamondbacks  | 1.2229841 | 0.4920116 |\n| Atlanta Braves        | 1.5183098 | 0.5632761 |\n| Baltimore Orioles     | 1.3052710 | 0.4592642 |\n| Boston Red Sox        | 2.1035807 | 0.5528356 |\n| Chicago Cubs          | 1.5517256 | 0.4758772 |\n| Chicago White Sox     | 1.3751059 | 0.5083224 |\n| Cincinnati Reds       | 1.1187674 | 0.4925240 |\n| Cleveland Indians     | 1.1131666 | 0.5068991 |\n| Colorado Rockies      | 1.1293117 | 0.4638518 |\n| Detroit Tigers        | 1.4839380 | 0.4757598 |\n| Houston Astros        | 1.1627931 | 0.4863958 |\n| Kansas City Royals    | 0.8699087 | 0.4334948 |\n| Los Angeles Angels    | 1.6608796 | 0.5395788 |\n| Los Angeles Dodgers   | 1.8741943 | 0.5288705 |\n| Miami Marlins         | 0.6980929 | 0.4684141 |\n| Milwaukee Brewers     | 1.0539193 | 0.4727218 |\n| Minnesota Twins       | 1.0106997 | 0.4921197 |\n| New York Mets         | 1.7185959 | 0.5022806 |\n| New York Yankees      | 2.8570926 | 0.5938154 |\n| Oakland Athletics     | 0.8875729 | 0.5392270 |\n| Philadelphia Phillies | 1.6893115 | 0.5186989 |\n| Pittsburgh Pirates    | 0.7717683 | 0.4429063 |\n| San Diego Padres      | 0.9395651 | 0.4830988 |\n| San Francisco Giants  | 1.5113513 | 0.5327296 |\n| Seattle Mariners      | 1.3992147 | 0.4914568 |\n| St. Louis Cardinals   | 1.4583757 | 0.5530070 |\n| Tampa Bay Rays        | 0.7761869 | 0.4621062 |\n| Texas Rangers         | 1.4114163 | 0.5066963 |\n| Toronto Blue Jays     | 1.2116357 | 0.4986987 |\n| Washington Nationals  | 0.9466941 | 0.4625502 |\n\n",
            "text/latex": "A tibble: 30 × 3\n\\begin{tabular}{lll}\n team & payroll\\_total & win\\_pct\\_avg\\\\\n <chr> & <dbl> & <dbl>\\\\\n\\hline\n\t Arizona Diamondbacks  & 1.2229841 & 0.4920116\\\\\n\t Atlanta Braves        & 1.5183098 & 0.5632761\\\\\n\t Baltimore Orioles     & 1.3052710 & 0.4592642\\\\\n\t Boston Red Sox        & 2.1035807 & 0.5528356\\\\\n\t Chicago Cubs          & 1.5517256 & 0.4758772\\\\\n\t Chicago White Sox     & 1.3751059 & 0.5083224\\\\\n\t Cincinnati Reds       & 1.1187674 & 0.4925240\\\\\n\t Cleveland Indians     & 1.1131666 & 0.5068991\\\\\n\t Colorado Rockies      & 1.1293117 & 0.4638518\\\\\n\t Detroit Tigers        & 1.4839380 & 0.4757598\\\\\n\t Houston Astros        & 1.1627931 & 0.4863958\\\\\n\t Kansas City Royals    & 0.8699087 & 0.4334948\\\\\n\t Los Angeles Angels    & 1.6608796 & 0.5395788\\\\\n\t Los Angeles Dodgers   & 1.8741943 & 0.5288705\\\\\n\t Miami Marlins         & 0.6980929 & 0.4684141\\\\\n\t Milwaukee Brewers     & 1.0539193 & 0.4727218\\\\\n\t Minnesota Twins       & 1.0106997 & 0.4921197\\\\\n\t New York Mets         & 1.7185959 & 0.5022806\\\\\n\t New York Yankees      & 2.8570926 & 0.5938154\\\\\n\t Oakland Athletics     & 0.8875729 & 0.5392270\\\\\n\t Philadelphia Phillies & 1.6893115 & 0.5186989\\\\\n\t Pittsburgh Pirates    & 0.7717683 & 0.4429063\\\\\n\t San Diego Padres      & 0.9395651 & 0.4830988\\\\\n\t San Francisco Giants  & 1.5113513 & 0.5327296\\\\\n\t Seattle Mariners      & 1.3992147 & 0.4914568\\\\\n\t St. Louis Cardinals   & 1.4583757 & 0.5530070\\\\\n\t Tampa Bay Rays        & 0.7761869 & 0.4621062\\\\\n\t Texas Rangers         & 1.4114163 & 0.5066963\\\\\n\t Toronto Blue Jays     & 1.2116357 & 0.4986987\\\\\n\t Washington Nationals  & 0.9466941 & 0.4625502\\\\\n\\end{tabular}\n",
            "text/plain": [
              "   team                  payroll_total win_pct_avg\n",
              "1  Arizona Diamondbacks  1.2229841     0.4920116  \n",
              "2  Atlanta Braves        1.5183098     0.5632761  \n",
              "3  Baltimore Orioles     1.3052710     0.4592642  \n",
              "4  Boston Red Sox        2.1035807     0.5528356  \n",
              "5  Chicago Cubs          1.5517256     0.4758772  \n",
              "6  Chicago White Sox     1.3751059     0.5083224  \n",
              "7  Cincinnati Reds       1.1187674     0.4925240  \n",
              "8  Cleveland Indians     1.1131666     0.5068991  \n",
              "9  Colorado Rockies      1.1293117     0.4638518  \n",
              "10 Detroit Tigers        1.4839380     0.4757598  \n",
              "11 Houston Astros        1.1627931     0.4863958  \n",
              "12 Kansas City Royals    0.8699087     0.4334948  \n",
              "13 Los Angeles Angels    1.6608796     0.5395788  \n",
              "14 Los Angeles Dodgers   1.8741943     0.5288705  \n",
              "15 Miami Marlins         0.6980929     0.4684141  \n",
              "16 Milwaukee Brewers     1.0539193     0.4727218  \n",
              "17 Minnesota Twins       1.0106997     0.4921197  \n",
              "18 New York Mets         1.7185959     0.5022806  \n",
              "19 New York Yankees      2.8570926     0.5938154  \n",
              "20 Oakland Athletics     0.8875729     0.5392270  \n",
              "21 Philadelphia Phillies 1.6893115     0.5186989  \n",
              "22 Pittsburgh Pirates    0.7717683     0.4429063  \n",
              "23 San Diego Padres      0.9395651     0.4830988  \n",
              "24 San Francisco Giants  1.5113513     0.5327296  \n",
              "25 Seattle Mariners      1.3992147     0.4914568  \n",
              "26 St. Louis Cardinals   1.4583757     0.5530070  \n",
              "27 Tampa Bay Rays        0.7761869     0.4621062  \n",
              "28 Texas Rangers         1.4114163     0.5066963  \n",
              "29 Toronto Blue Jays     1.2116357     0.4986987  \n",
              "30 Washington Nationals  0.9466941     0.4625502  "
            ]
          },
          "metadata": {}
        }
      ]
    },
    {
      "cell_type": "code",
      "source": [
        "print(\"Mean\")\n",
        "mean(data3$payroll_total)\n",
        "print(\"SD\")\n",
        "sd(data3$payroll_total) \n",
        "print(\"Quantile\")\n",
        "quantile(data3$payroll_total, prob = seq(0, 1, 0.25))\n",
        "print(\"Median\")\n",
        "median(data3$payroll_total)\n",
        "print(\"Max\")\n",
        "max(data3$payroll_total)\n",
        "print(\"Min\")\n",
        "min(data3$payroll_total)"
      ],
      "metadata": {
        "colab": {
          "base_uri": "https://localhost:8080/",
          "height": 225
        },
        "id": "uxKZj8w7JZEw",
        "outputId": "de141d1b-3ed3-4409-efc5-a6e97fab4914"
      },
      "execution_count": 146,
      "outputs": [
        {
          "output_type": "stream",
          "name": "stdout",
          "text": [
            "[1] \"Mean\"\n"
          ]
        },
        {
          "output_type": "display_data",
          "data": {
            "text/html": [
              "1.32771432256667"
            ],
            "text/markdown": "1.32771432256667",
            "text/latex": "1.32771432256667",
            "text/plain": [
              "[1] 1.327714"
            ]
          },
          "metadata": {}
        },
        {
          "output_type": "stream",
          "name": "stdout",
          "text": [
            "[1] \"SD\"\n"
          ]
        },
        {
          "output_type": "display_data",
          "data": {
            "text/html": [
              "0.450122916217618"
            ],
            "text/markdown": "0.450122916217618",
            "text/latex": "0.450122916217618",
            "text/plain": [
              "[1] 0.4501229"
            ]
          },
          "metadata": {}
        },
        {
          "output_type": "stream",
          "name": "stdout",
          "text": [
            "[1] \"Quantile\"\n"
          ]
        },
        {
          "output_type": "display_data",
          "data": {
            "text/html": [
              "<style>\n",
              ".dl-inline {width: auto; margin:0; padding: 0}\n",
              ".dl-inline>dt, .dl-inline>dd {float: none; width: auto; display: inline-block}\n",
              ".dl-inline>dt::after {content: \":\\0020\"; padding-right: .5ex}\n",
              ".dl-inline>dt:not(:first-of-type) {padding-left: .5ex}\n",
              "</style><dl class=dl-inline><dt>0%</dt><dd>0.698092887</dd><dt>25%</dt><dd>1.021504597</dd><dt>50%</dt><dd>1.2641275845</dd><dt>75%</dt><dd>1.5165701805</dd><dt>100%</dt><dd>2.857092606</dd></dl>\n"
            ],
            "text/markdown": "0%\n:   0.69809288725%\n:   1.02150459750%\n:   1.264127584575%\n:   1.5165701805100%\n:   2.857092606\n\n",
            "text/latex": "\\begin{description*}\n\\item[0\\textbackslash{}\\%] 0.698092887\n\\item[25\\textbackslash{}\\%] 1.021504597\n\\item[50\\textbackslash{}\\%] 1.2641275845\n\\item[75\\textbackslash{}\\%] 1.5165701805\n\\item[100\\textbackslash{}\\%] 2.857092606\n\\end{description*}\n",
            "text/plain": [
              "       0%       25%       50%       75%      100% \n",
              "0.6980929 1.0215046 1.2641276 1.5165702 2.8570926 "
            ]
          },
          "metadata": {}
        },
        {
          "output_type": "stream",
          "name": "stdout",
          "text": [
            "[1] \"Median\"\n"
          ]
        },
        {
          "output_type": "display_data",
          "data": {
            "text/html": [
              "1.2641275845"
            ],
            "text/markdown": "1.2641275845",
            "text/latex": "1.2641275845",
            "text/plain": [
              "[1] 1.264128"
            ]
          },
          "metadata": {}
        },
        {
          "output_type": "stream",
          "name": "stdout",
          "text": [
            "[1] \"Max\"\n"
          ]
        },
        {
          "output_type": "display_data",
          "data": {
            "text/html": [
              "2.857092606"
            ],
            "text/markdown": "2.857092606",
            "text/latex": "2.857092606",
            "text/plain": [
              "[1] 2.857093"
            ]
          },
          "metadata": {}
        },
        {
          "output_type": "stream",
          "name": "stdout",
          "text": [
            "[1] \"Min\"\n"
          ]
        },
        {
          "output_type": "display_data",
          "data": {
            "text/html": [
              "0.698092887"
            ],
            "text/markdown": "0.698092887",
            "text/latex": "0.698092887",
            "text/plain": [
              "[1] 0.6980929"
            ]
          },
          "metadata": {}
        }
      ]
    },
    {
      "cell_type": "code",
      "source": [
        "data3$team[which.max(data3$payroll_total)] \n",
        "data3$team[which.min(data3$payroll_total)]"
      ],
      "metadata": {
        "colab": {
          "base_uri": "https://localhost:8080/",
          "height": 52
        },
        "id": "aUmw6y3SLodR",
        "outputId": "c2a2e4c0-eb6a-4779-bfc2-83005784d022"
      },
      "execution_count": 147,
      "outputs": [
        {
          "output_type": "display_data",
          "data": {
            "text/html": [
              "'New York Yankees'"
            ],
            "text/markdown": "'New York Yankees'",
            "text/latex": "'New York Yankees'",
            "text/plain": [
              "[1] \"New York Yankees\""
            ]
          },
          "metadata": {}
        },
        {
          "output_type": "display_data",
          "data": {
            "text/html": [
              "'Miami Marlins'"
            ],
            "text/markdown": "'Miami Marlins'",
            "text/latex": "'Miami Marlins'",
            "text/plain": [
              "[1] \"Miami Marlins\""
            ]
          },
          "metadata": {}
        }
      ]
    },
    {
      "cell_type": "code",
      "source": [
        "#To rank teams by payroll in decreasing order\n",
        "arrange(data3, desc(payroll_total))[1:6,] #default decs=T"
      ],
      "metadata": {
        "colab": {
          "base_uri": "https://localhost:8080/",
          "height": 286
        },
        "id": "6_2i0HyvMCJo",
        "outputId": "dc85ef55-d1b1-4977-cac8-9826c267040b"
      },
      "execution_count": 148,
      "outputs": [
        {
          "output_type": "display_data",
          "data": {
            "text/html": [
              "<table class=\"dataframe\">\n",
              "<caption>A tibble: 6 × 3</caption>\n",
              "<thead>\n",
              "\t<tr><th scope=col>team</th><th scope=col>payroll_total</th><th scope=col>win_pct_avg</th></tr>\n",
              "\t<tr><th scope=col>&lt;chr&gt;</th><th scope=col>&lt;dbl&gt;</th><th scope=col>&lt;dbl&gt;</th></tr>\n",
              "</thead>\n",
              "<tbody>\n",
              "\t<tr><td>New York Yankees     </td><td>2.857093</td><td>0.5938154</td></tr>\n",
              "\t<tr><td>Boston Red Sox       </td><td>2.103581</td><td>0.5528356</td></tr>\n",
              "\t<tr><td>Los Angeles Dodgers  </td><td>1.874194</td><td>0.5288705</td></tr>\n",
              "\t<tr><td>New York Mets        </td><td>1.718596</td><td>0.5022806</td></tr>\n",
              "\t<tr><td>Philadelphia Phillies</td><td>1.689312</td><td>0.5186989</td></tr>\n",
              "\t<tr><td>Los Angeles Angels   </td><td>1.660880</td><td>0.5395788</td></tr>\n",
              "</tbody>\n",
              "</table>\n"
            ],
            "text/markdown": "\nA tibble: 6 × 3\n\n| team &lt;chr&gt; | payroll_total &lt;dbl&gt; | win_pct_avg &lt;dbl&gt; |\n|---|---|---|\n| New York Yankees      | 2.857093 | 0.5938154 |\n| Boston Red Sox        | 2.103581 | 0.5528356 |\n| Los Angeles Dodgers   | 1.874194 | 0.5288705 |\n| New York Mets         | 1.718596 | 0.5022806 |\n| Philadelphia Phillies | 1.689312 | 0.5186989 |\n| Los Angeles Angels    | 1.660880 | 0.5395788 |\n\n",
            "text/latex": "A tibble: 6 × 3\n\\begin{tabular}{lll}\n team & payroll\\_total & win\\_pct\\_avg\\\\\n <chr> & <dbl> & <dbl>\\\\\n\\hline\n\t New York Yankees      & 2.857093 & 0.5938154\\\\\n\t Boston Red Sox        & 2.103581 & 0.5528356\\\\\n\t Los Angeles Dodgers   & 1.874194 & 0.5288705\\\\\n\t New York Mets         & 1.718596 & 0.5022806\\\\\n\t Philadelphia Phillies & 1.689312 & 0.5186989\\\\\n\t Los Angeles Angels    & 1.660880 & 0.5395788\\\\\n\\end{tabular}\n",
            "text/plain": [
              "  team                  payroll_total win_pct_avg\n",
              "1 New York Yankees      2.857093      0.5938154  \n",
              "2 Boston Red Sox        2.103581      0.5528356  \n",
              "3 Los Angeles Dodgers   1.874194      0.5288705  \n",
              "4 New York Mets         1.718596      0.5022806  \n",
              "5 Philadelphia Phillies 1.689312      0.5186989  \n",
              "6 Los Angeles Angels    1.660880      0.5395788  "
            ]
          },
          "metadata": {}
        }
      ]
    },
    {
      "cell_type": "code",
      "source": [
        "#this uses the dplyr library, the arrange() function works too\n",
        "data3 %>% select(team,payroll_total) %>% filter(payroll_total == max(payroll_total))\n",
        "data3 %>% select(team,payroll_total) %>% filter(payroll_total == min(payroll_total))"
      ],
      "metadata": {
        "colab": {
          "base_uri": "https://localhost:8080/",
          "height": 242
        },
        "id": "-sXVnnTyNCVp",
        "outputId": "039dd578-f403-4c3b-f54f-beaa3afd608d"
      },
      "execution_count": 149,
      "outputs": [
        {
          "output_type": "display_data",
          "data": {
            "text/html": [
              "<table class=\"dataframe\">\n",
              "<caption>A tibble: 1 × 2</caption>\n",
              "<thead>\n",
              "\t<tr><th scope=col>team</th><th scope=col>payroll_total</th></tr>\n",
              "\t<tr><th scope=col>&lt;chr&gt;</th><th scope=col>&lt;dbl&gt;</th></tr>\n",
              "</thead>\n",
              "<tbody>\n",
              "\t<tr><td>New York Yankees</td><td>2.857093</td></tr>\n",
              "</tbody>\n",
              "</table>\n"
            ],
            "text/markdown": "\nA tibble: 1 × 2\n\n| team &lt;chr&gt; | payroll_total &lt;dbl&gt; |\n|---|---|\n| New York Yankees | 2.857093 |\n\n",
            "text/latex": "A tibble: 1 × 2\n\\begin{tabular}{ll}\n team & payroll\\_total\\\\\n <chr> & <dbl>\\\\\n\\hline\n\t New York Yankees & 2.857093\\\\\n\\end{tabular}\n",
            "text/plain": [
              "  team             payroll_total\n",
              "1 New York Yankees 2.857093     "
            ]
          },
          "metadata": {}
        },
        {
          "output_type": "display_data",
          "data": {
            "text/html": [
              "<table class=\"dataframe\">\n",
              "<caption>A tibble: 1 × 2</caption>\n",
              "<thead>\n",
              "\t<tr><th scope=col>team</th><th scope=col>payroll_total</th></tr>\n",
              "\t<tr><th scope=col>&lt;chr&gt;</th><th scope=col>&lt;dbl&gt;</th></tr>\n",
              "</thead>\n",
              "<tbody>\n",
              "\t<tr><td>Miami Marlins</td><td>0.6980929</td></tr>\n",
              "</tbody>\n",
              "</table>\n"
            ],
            "text/markdown": "\nA tibble: 1 × 2\n\n| team &lt;chr&gt; | payroll_total &lt;dbl&gt; |\n|---|---|\n| Miami Marlins | 0.6980929 |\n\n",
            "text/latex": "A tibble: 1 × 2\n\\begin{tabular}{ll}\n team & payroll\\_total\\\\\n <chr> & <dbl>\\\\\n\\hline\n\t Miami Marlins & 0.6980929\\\\\n\\end{tabular}\n",
            "text/plain": [
              "  team          payroll_total\n",
              "1 Miami Marlins 0.6980929    "
            ]
          },
          "metadata": {}
        }
      ]
    },
    {
      "cell_type": "code",
      "source": [
        "hist(data3$payroll_total, breaks=5)"
      ],
      "metadata": {
        "colab": {
          "base_uri": "https://localhost:8080/",
          "height": 437
        },
        "id": "ML82Iy6ENlN0",
        "outputId": "e975f5bd-dc92-4dd3-fe84-e53cb96eb0f2"
      },
      "execution_count": 150,
      "outputs": [
        {
          "output_type": "display_data",
          "data": {
            "text/plain": [
              "Plot with title “Histogram of data3$payroll_total”"
            ],
            "image/png": "[encoded data removed]"
          },
          "metadata": {
            "image/png": {
              "width": 420,
              "height": 420
            }
          }
        }
      ]
    },
    {
      "cell_type": "code",
      "source": [
        "hist(data3$payroll_total, breaks=10, main = \"HISTOGRAM\", xlab = \"Payroll Total\", col = \"blue\")"
      ],
      "metadata": {
        "colab": {
          "base_uri": "https://localhost:8080/",
          "height": 437
        },
        "id": "amsjeyNSN42g",
        "outputId": "2c1a4d25-894f-4bea-a007-61ec2a713143"
      },
      "execution_count": 151,
      "outputs": [
        {
          "output_type": "display_data",
          "data": {
            "text/plain": [
              "Plot with title “HISTOGRAM”"
            ],
            "image/png": "[encoded data removed]"
          },
          "metadata": {
            "image/png": {
              "width": 420,
              "height": 420
            }
          }
        }
      ]
    },
    {
      "cell_type": "code",
      "source": [
        "p1 <- ggplot(data_agg) + \n",
        "  geom_histogram(aes(x = payroll_total), bins = 10, fill = \"blue\") +\n",
        "  labs( title = \"Histogram of Payroll\", x = \"Payroll\" , y = \"Frequency\")\n",
        "p1"
      ],
      "metadata": {
        "colab": {
          "base_uri": "https://localhost:8080/",
          "height": 437
        },
        "id": "aclmvjR1O76B",
        "outputId": "339c77fd-9fd8-4f91-ed82-53e6055c8456"
      },
      "execution_count": 152,
      "outputs": [
        {
          "output_type": "display_data",
          "data": {
            "text/plain": [
              "plot without title"
            ],
            "image/png": "[encoded data removed]"
          },
          "metadata": {
            "image/png": {
              "width": 420,
              "height": 420
            }
          }
        }
      ]
    },
    {
      "cell_type": "code",
      "source": [
        "boxplot(data3$payroll_total,\n",
        "        main = \"Boxplot of Payroll\",\n",
        "        ylab = \"payroll\")"
      ],
      "metadata": {
        "id": "7FwyATw9PqM4",
        "colab": {
          "base_uri": "https://localhost:8080/",
          "height": 437
        },
        "outputId": "02f60dda-adfc-4eb6-c926-0bc5a86fabd6"
      },
      "execution_count": 153,
      "outputs": [
        {
          "output_type": "display_data",
          "data": {
            "text/plain": [
              "Plot with title “Boxplot of Payroll”"
            ],
            "image/png": "[encoded data removed]"
          },
          "metadata": {
            "image/png": {
              "width": 420,
              "height": 420
            }
          }
        }
      ]
    },
    {
      "cell_type": "code",
      "source": [
        "ggplot(data3) + \n",
        "  geom_boxplot(aes(x=\"\", y=payroll_total)) + \n",
        "  labs(title=\"Boxplot of Pay Total\", x=\"\") "
      ],
      "metadata": {
        "id": "PefGPiIGPrqc",
        "colab": {
          "base_uri": "https://localhost:8080/",
          "height": 437
        },
        "outputId": "9d453dc7-d622-4460-a1b7-a5bbcd114e7e"
      },
      "execution_count": 154,
      "outputs": [
        {
          "output_type": "display_data",
          "data": {
            "text/plain": [
              "plot without title"
            ],
            "image/png": "[encoded data removed]"
          },
          "metadata": {
            "image/png": {
              "width": 420,
              "height": 420
            }
          }
        }
      ]
    }
  ]
}