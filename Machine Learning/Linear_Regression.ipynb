{
  "cells": [
    {
      "cell_type": "markdown",
      "metadata": {
        "id": "view-in-github",
        "colab_type": "text"
      },
      "source": [
        "<a href=\"https://colab.research.google.com/github/K1ngHungry/DataScienceClub/blob/main/Machine%20Learning/Linear_Regression.ipynb\" target=\"_parent\"><img src=\"https://colab.research.google.com/assets/colab-badge.svg\" alt=\"Open In Colab\"/></a>"
      ]
    },
    {
      "cell_type": "markdown",
      "metadata": {
        "id": "ZboL4NouMHOO"
      },
      "source": [
        "# In Depth: Linear Regression"
      ]
    },
    {
      "cell_type": "markdown",
      "metadata": {
        "id": "gXPEisrUMHOO"
      },
      "source": [
        "We begin with the standard imports:"
      ]
    },
    {
      "cell_type": "code",
      "execution_count": 7,
      "metadata": {
        "id": "0ipZZZJOMHOO"
      },
      "outputs": [],
      "source": [
        "%matplotlib inline\n",
        "import matplotlib.pyplot as plt\n",
        "import seaborn as sns; sns.set()\n",
        "import numpy as np"
      ]
    },
    {
      "cell_type": "markdown",
      "metadata": {
        "id": "ZJK1RsAlMHOP"
      },
      "source": [
        "## Simple Linear Regression\n",
        "\n",
        "We will start with the most familiar linear regression, a straight-line fit to data.\n",
        "A straight-line fit is a model of the form\n",
        "$$\n",
        "y = ax + b\n",
        "$$\n",
        "where $a$ is commonly known as the *slope*, and $b$ is commonly known as the *intercept*.\n",
        "\n",
        "Consider the following data, which is scattered about a line with a slope of 2 and an intercept of -5:"
      ]
    },
    {
      "cell_type": "code",
      "execution_count": 8,
      "metadata": {
        "id": "A5jaXiX6MHOP",
        "outputId": "a61397c1-b3ea-436a-c36d-a8a7c5df779c",
        "colab": {
          "base_uri": "https://localhost:8080/",
          "height": 268
        }
      },
      "outputs": [
        {
          "output_type": "display_data",
          "data": {
            "text/plain": [
              "<Figure size 432x288 with 1 Axes>"
            ],
            "image/png": "[encoded data removed]"
          },
          "metadata": {}
        }
      ],
      "source": [
        "rng = np.random.RandomState(23482987)\n",
        "x = 10 * rng.rand(50)\n",
        "y = -2 * x - 10 + 1*rng.randn(50)\n",
        "plt.scatter(x, y);"
      ]
    },
    {
      "cell_type": "code",
      "execution_count": 9,
      "metadata": {
        "id": "vhvx2bJUMHOQ",
        "outputId": "1ea3b7cb-b096-40f1-fd7d-8fa3051817c5",
        "colab": {
          "base_uri": "https://localhost:8080/"
        }
      },
      "outputs": [
        {
          "output_type": "execute_result",
          "data": {
            "text/plain": [
              "array([4.13432671, 1.73239726, 7.49927255, 3.3311196 , 8.92073528,\n",
              "       8.55287073, 2.70360016, 1.56733232, 4.06089615, 0.09019338,\n",
              "       5.24066319, 1.50995319, 9.51558386, 5.91160571, 4.62314927,\n",
              "       8.75443829, 0.20037207, 9.72822971, 5.93119186, 5.69018924,\n",
              "       1.74403933, 0.75996116, 1.02610962, 4.98416094, 1.59431533,\n",
              "       6.97498523, 1.14949953, 0.55380859, 6.98253531, 6.378835  ,\n",
              "       8.13723969, 5.56749642, 5.44714081, 1.39662613, 1.7882957 ,\n",
              "       2.48440624, 8.72911435, 2.2232328 , 7.70052105, 7.64948769,\n",
              "       4.38682783, 8.33898233, 8.6021946 , 6.83272625, 4.91575346,\n",
              "       4.47281924, 8.46854215, 6.49588796, 4.17544315, 7.88692273])"
            ]
          },
          "metadata": {},
          "execution_count": 9
        }
      ],
      "source": [
        "10*rng.rand(50)"
      ]
    },
    {
      "cell_type": "markdown",
      "metadata": {
        "id": "cyxGp4cKMHOQ"
      },
      "source": [
        "We can use Scikit-Learn's ``LinearRegression`` estimator to fit this data and construct the best-fit line:\n",
        "\n",
        "Documentation: https://scikit-learn.org/0.21/documentation.html"
      ]
    },
    {
      "cell_type": "code",
      "execution_count": 10,
      "metadata": {
        "id": "bE78urJEMHOQ",
        "outputId": "a29c502b-c809-48b0-fef7-b203d3451a58",
        "colab": {
          "base_uri": "https://localhost:8080/",
          "height": 268
        }
      },
      "outputs": [
        {
          "output_type": "display_data",
          "data": {
            "text/plain": [
              "<Figure size 432x288 with 1 Axes>"
            ],
            "image/png": "[encoded data removed]"
          },
          "metadata": {}
        }
      ],
      "source": [
        "from sklearn.linear_model import LinearRegression\n",
        "model = LinearRegression(fit_intercept=True)\n",
        "\n",
        "model.fit(x[:, np.newaxis], y)\n",
        "\n",
        "xfit = np.linspace(0, 10, 100) #linspace spaces out the data evenly\n",
        "yfit = model.predict(xfit[:, np.newaxis]) # newaxis reshapes the array\n",
        "\n",
        "plt.scatter(x, y)\n",
        "plt.plot(xfit, yfit,'rx'); #rx makes it red"
      ]
    },
    {
      "cell_type": "code",
      "execution_count": 11,
      "metadata": {
        "id": "EW46p0HJMHOQ",
        "outputId": "9431ac68-c28a-455c-d15d-a67bf03e31be",
        "colab": {
          "base_uri": "https://localhost:8080/"
        }
      },
      "outputs": [
        {
          "output_type": "execute_result",
          "data": {
            "text/plain": [
              "-10.028439777417626"
            ]
          },
          "metadata": {},
          "execution_count": 11
        }
      ],
      "source": [
        "model.intercept_"
      ]
    },
    {
      "cell_type": "markdown",
      "metadata": {
        "id": "0P_yo5LuMHOR"
      },
      "source": [
        "The slope and intercept of the data are contained in the model's fit parameters, which in Scikit-Learn are always marked by a trailing underscore.\n",
        "Here the relevant parameters are ``coef_`` and ``intercept_``:"
      ]
    },
    {
      "cell_type": "code",
      "execution_count": 12,
      "metadata": {
        "id": "aZJ0pEoUMHOR",
        "outputId": "77c49ee4-ce84-4023-9a5c-064d40d98af2",
        "colab": {
          "base_uri": "https://localhost:8080/"
        }
      },
      "outputs": [
        {
          "output_type": "stream",
          "name": "stdout",
          "text": [
            "Model slope:     -2.0225139628803652\n",
            "Model intercept: -10.028439777417626\n"
          ]
        }
      ],
      "source": [
        "print(\"Model slope:    \", model.coef_[0])\n",
        "print(\"Model intercept:\", model.intercept_)"
      ]
    },
    {
      "cell_type": "markdown",
      "metadata": {
        "id": "9pF8RYg0MHOR"
      },
      "source": [
        "We see that the results are very close to the inputs, as we might hope."
      ]
    },
    {
      "cell_type": "markdown",
      "metadata": {
        "id": "wp8P8pehMHOR"
      },
      "source": [
        "The ``LinearRegression`` estimator is much more capable than this, however—in addition to simple straight-line fits, it can also handle multidimensional linear models of the form\n",
        "$$\n",
        "y = a_0 + a_1 x_1 + a_2 x_2 + \\cdots\n",
        "$$\n",
        "where there are multiple $x$ values.\n",
        "Geometrically, this is akin to fitting a plane to points in three dimensions, or fitting a hyper-plane to points in higher dimensions.\n",
        "\n",
        "The multidimensional nature of such regressions makes them more difficult to visualize, but we can see one of these fits in action by building some example data, using NumPy's matrix multiplication operator:"
      ]
    },
    {
      "cell_type": "code",
      "execution_count": 13,
      "metadata": {
        "id": "wZ-mCqE0MHOR",
        "outputId": "220cc94d-1103-4818-c50e-b244901e193e",
        "colab": {
          "base_uri": "https://localhost:8080/"
        }
      },
      "outputs": [
        {
          "output_type": "stream",
          "name": "stdout",
          "text": [
            "0.5000000000000033\n",
            "[ 1.5 -2.   1. ]\n"
          ]
        }
      ],
      "source": [
        "rng = np.random.RandomState(1)\n",
        "X = 10 * rng.rand(100, 3)\n",
        "y = 0.5 + np.dot(X, [1.5, -2., 1.])\n",
        "\n",
        "model.fit(X, y)\n",
        "print(model.intercept_)\n",
        "print(model.coef_)"
      ]
    },
    {
      "cell_type": "markdown",
      "metadata": {
        "id": "J5MVp-iAMHOR"
      },
      "source": [
        "Here the $y$ data is constructed from three random $x$ values, and the linear regression recovers the coefficients used to construct the data.\n",
        "\n",
        "In this way, we can use the single ``LinearRegression`` estimator to fit lines, planes, or hyperplanes to our data.\n",
        "It still appears that this approach would be limited to strictly linear relationships between variables, but it turns out we can relax this as well."
      ]
    },
    {
      "cell_type": "code",
      "source": [
        "import pandas as pd\n",
        "data = pd.read_csv('https://raw.githubusercontent.com/K1ngHungry/DataScienceClub/main/Height%20Weight%20Data.csv')\n",
        "data.plot.scatter(x='Height', y='Weight', alpha=1, color='blue')"
      ],
      "metadata": {
        "colab": {
          "base_uri": "https://localhost:8080/",
          "height": 303
        },
        "id": "5pwiqAHdS3_C",
        "outputId": "d439ff6a-56f8-41ee-8d11-51b824e5d756"
      },
      "execution_count": 24,
      "outputs": [
        {
          "output_type": "execute_result",
          "data": {
            "text/plain": [
              "<AxesSubplot:xlabel='Height', ylabel='Weight'>"
            ]
          },
          "metadata": {},
          "execution_count": 24
        },
        {
          "output_type": "display_data",
          "data": {
            "text/plain": [
              "<Figure size 432x288 with 1 Axes>"
            ],
            "image/png": "[encoded data removed]"
          },
          "metadata": {}
        }
      ]
    },
    {
      "cell_type": "code",
      "source": [
        "# Creating a Linear Regression model on our data\n",
        "model = LinearRegression()\n",
        "model.fit(data[['Height']], data['Weight'])\n",
        "# Creating a plot\n",
        "ax = data.plot.scatter(x='Height', y='Weight', alpha=1, color='blue')\n",
        "ax.plot(data['Height'], model.predict(data[['Height']]), c='r')"
      ],
      "metadata": {
        "colab": {
          "base_uri": "https://localhost:8080/",
          "height": 303
        },
        "id": "4w3tgKJqS_FC",
        "outputId": "48eac284-4797-4d24-e7ac-89ea7c35c814"
      },
      "execution_count": 25,
      "outputs": [
        {
          "output_type": "execute_result",
          "data": {
            "text/plain": [
              "[<matplotlib.lines.Line2D at 0x7f326b4e4850>]"
            ]
          },
          "metadata": {},
          "execution_count": 25
        },
        {
          "output_type": "display_data",
          "data": {
            "text/plain": [
              "<Figure size 432x288 with 1 Axes>"
            ],
            "image/png": "[encoded data removed]"
          },
          "metadata": {}
        }
      ]
    },
    {
      "cell_type": "code",
      "source": [
        "model.score(data[['Height']], data['Weight'])"
      ],
      "metadata": {
        "colab": {
          "base_uri": "https://localhost:8080/"
        },
        "id": "uUd1Olv0TDMi",
        "outputId": "b9f50032-bb5e-43ef-fb4c-a7df7320dfc6"
      },
      "execution_count": 26,
      "outputs": [
        {
          "output_type": "execute_result",
          "data": {
            "text/plain": [
              "0.5271960827234733"
            ]
          },
          "metadata": {},
          "execution_count": 26
        }
      ]
    }
  ],
  "metadata": {
    "anaconda-cloud": {},
    "kernelspec": {
      "display_name": "Python 3 (ipykernel)",
      "language": "python",
      "name": "python3"
    },
    "language_info": {
      "codemirror_mode": {
        "name": "ipython",
        "version": 3
      },
      "file_extension": ".py",
      "mimetype": "text/x-python",
      "name": "python",
      "nbconvert_exporter": "python",
      "pygments_lexer": "ipython3",
      "version": "3.9.13"
    },
    "colab": {
      "provenance": [],
      "include_colab_link": true
    }
  },
  "nbformat": 4,
  "nbformat_minor": 0
}